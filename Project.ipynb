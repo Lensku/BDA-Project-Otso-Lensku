{
 "cells": [
  {
   "cell_type": "markdown",
   "metadata": {
    "nbgrader": {
     "grade": false,
     "grade_id": "cell-a5592b3f1c6bf91d",
     "locked": true,
     "schema_version": 2,
     "solution": false
    }
   },
   "source": [
    "# Bayesian Data Analysis 2019 - Data Analysis Project Report\n",
    "\n",
    "## Analysis problem\n",
    "\n",
    "The aim of this project is to analyse variation from month to month in public transportation. The variations from rush hours to late night are obvious to all of us using public transport. The decision makers are not necessarily analysing these changes between different months, even though it could prove valuable for example, in the maintenance, training and testing of equipment or operators. Therefore we want to look at the monthly variation from multiple years of data.\n",
    "\n",
    "Furthermore, we want to analyse differences and correlations in the rush hours and quieter hours from one month to the other. For example, Holidays during December might have less difference from time to time, since there are less working days.\n",
    "\n",
    "## Loaded packages\n",
    "\n",
    "Below are the loaded packages that are used in the project. Remember to make sure that all the packages are installed into the system (for example, pystan)."
   ]
  },
  {
   "cell_type": "code",
   "execution_count": 2,
   "metadata": {},
   "outputs": [],
   "source": [
    "# Importing the libraries\n",
    "import pandas as pd\n",
    "import numpy as np\n",
    "import matplotlib.pyplot as plt\n",
    "import scipy.stats as ss\n",
    "import pystan\n",
    "import datetime"
   ]
  },
  {
   "cell_type": "markdown",
   "metadata": {},
   "source": [
    "## Description of data\n",
    "\n",
    "The data set used is provided by UCI Machine Learning Repository.\n",
    "\n",
    "The data set is called \"Metro Interstate Traffic Volume Data Set\", and it is described by the provider as follows: \"Hourly Interstate 94 Westbound traffic volume for MN DoT ATR station 301, roughly midway between Minneapolis and St Paul, MN. Hourly weather features and holidays included for impacts on traffic volume.\"\n",
    "\n",
    "Below we load the data from our csv file. This file is accessible at https://archive.ics.uci.edu/ml/datasets/Metro+Interstate+Traffic+Volume \n",
    "\n",
    "The part of the data we are the most interested in are the date_time and traffic_volume. From date_time we can easily capture the months and hours of data and from traffic volume, we get the number of passengers passing the specific station starting the mentioned hour. We are going to analyse the working days in order to avoid biases in the distributions and to focus on the business side of operating the transportation."
   ]
  },
  {
   "cell_type": "code",
   "execution_count": 3,
   "metadata": {},
   "outputs": [
    {
     "data": {
      "text/html": [
       "<div>\n",
       "<style scoped>\n",
       "    .dataframe tbody tr th:only-of-type {\n",
       "        vertical-align: middle;\n",
       "    }\n",
       "\n",
       "    .dataframe tbody tr th {\n",
       "        vertical-align: top;\n",
       "    }\n",
       "\n",
       "    .dataframe thead th {\n",
       "        text-align: right;\n",
       "    }\n",
       "</style>\n",
       "<table border=\"1\" class=\"dataframe\">\n",
       "  <thead>\n",
       "    <tr style=\"text-align: right;\">\n",
       "      <th></th>\n",
       "      <th>holiday</th>\n",
       "      <th>temp</th>\n",
       "      <th>rain_1h</th>\n",
       "      <th>snow_1h</th>\n",
       "      <th>clouds_all</th>\n",
       "      <th>weather_main</th>\n",
       "      <th>weather_description</th>\n",
       "      <th>date_time</th>\n",
       "      <th>traffic_volume</th>\n",
       "    </tr>\n",
       "  </thead>\n",
       "  <tbody>\n",
       "    <tr>\n",
       "      <th>0</th>\n",
       "      <td>None</td>\n",
       "      <td>288.28</td>\n",
       "      <td>0.0</td>\n",
       "      <td>0.0</td>\n",
       "      <td>40</td>\n",
       "      <td>Clouds</td>\n",
       "      <td>scattered clouds</td>\n",
       "      <td>2012-10-02 09:00:00</td>\n",
       "      <td>5545</td>\n",
       "    </tr>\n",
       "    <tr>\n",
       "      <th>1</th>\n",
       "      <td>None</td>\n",
       "      <td>289.36</td>\n",
       "      <td>0.0</td>\n",
       "      <td>0.0</td>\n",
       "      <td>75</td>\n",
       "      <td>Clouds</td>\n",
       "      <td>broken clouds</td>\n",
       "      <td>2012-10-02 10:00:00</td>\n",
       "      <td>4516</td>\n",
       "    </tr>\n",
       "    <tr>\n",
       "      <th>2</th>\n",
       "      <td>None</td>\n",
       "      <td>289.58</td>\n",
       "      <td>0.0</td>\n",
       "      <td>0.0</td>\n",
       "      <td>90</td>\n",
       "      <td>Clouds</td>\n",
       "      <td>overcast clouds</td>\n",
       "      <td>2012-10-02 11:00:00</td>\n",
       "      <td>4767</td>\n",
       "    </tr>\n",
       "    <tr>\n",
       "      <th>3</th>\n",
       "      <td>None</td>\n",
       "      <td>290.13</td>\n",
       "      <td>0.0</td>\n",
       "      <td>0.0</td>\n",
       "      <td>90</td>\n",
       "      <td>Clouds</td>\n",
       "      <td>overcast clouds</td>\n",
       "      <td>2012-10-02 12:00:00</td>\n",
       "      <td>5026</td>\n",
       "    </tr>\n",
       "    <tr>\n",
       "      <th>4</th>\n",
       "      <td>None</td>\n",
       "      <td>291.14</td>\n",
       "      <td>0.0</td>\n",
       "      <td>0.0</td>\n",
       "      <td>75</td>\n",
       "      <td>Clouds</td>\n",
       "      <td>broken clouds</td>\n",
       "      <td>2012-10-02 13:00:00</td>\n",
       "      <td>4918</td>\n",
       "    </tr>\n",
       "  </tbody>\n",
       "</table>\n",
       "</div>"
      ],
      "text/plain": [
       "  holiday    temp  rain_1h  snow_1h  clouds_all weather_main  \\\n",
       "0    None  288.28      0.0      0.0          40       Clouds   \n",
       "1    None  289.36      0.0      0.0          75       Clouds   \n",
       "2    None  289.58      0.0      0.0          90       Clouds   \n",
       "3    None  290.13      0.0      0.0          90       Clouds   \n",
       "4    None  291.14      0.0      0.0          75       Clouds   \n",
       "\n",
       "  weather_description            date_time  traffic_volume  \n",
       "0    scattered clouds  2012-10-02 09:00:00            5545  \n",
       "1       broken clouds  2012-10-02 10:00:00            4516  \n",
       "2     overcast clouds  2012-10-02 11:00:00            4767  \n",
       "3     overcast clouds  2012-10-02 12:00:00            5026  \n",
       "4       broken clouds  2012-10-02 13:00:00            4918  "
      ]
     },
     "execution_count": 3,
     "metadata": {},
     "output_type": "execute_result"
    }
   ],
   "source": [
    "# load data\n",
    "\n",
    "df = pd.read_csv(\"Metro_Interstate_Traffic_Volume.csv\")\n",
    "\n",
    "df.head()"
   ]
  },
  {
   "cell_type": "markdown",
   "metadata": {},
   "source": [
    "Let's first look at the data in traffic volume. Below, we can see a histogram of passengers each hour. There are clearly a lot of really slow hours. Then, around 3000 and 4500 there are a couple of spikes. These spikes could be rush hours, last trains going through the station or similar, but we are not sure at this point. There do not seem to be clear anomalies, since the data is well spread out and the scale seems to fit automatically quite well, i.e. there are no singular values of 10000 or more."
   ]
  },
  {
   "cell_type": "code",
   "execution_count": 38,
   "metadata": {},
   "outputs": [
    {
     "data": {
      "text/plain": [
       "Text(0.5, 1.0, 'Traffic volume')"
      ]
     },
     "execution_count": 38,
     "metadata": {},
     "output_type": "execute_result"
    },
    {
     "data": {
      "image/png": "[encoded data removed]",
      "text/plain": [
       "<Figure size 432x288 with 1 Axes>"
      ]
     },
     "metadata": {
      "needs_background": "light"
     },
     "output_type": "display_data"
    }
   ],
   "source": [
    "plt.hist(df['traffic_volume'], bins=150)\n",
    "plt.title(\"Traffic volume\")"
   ]
  },
  {
   "cell_type": "markdown",
   "metadata": {},
   "source": [
    "Next, we will edit our data in order to gain better access into the hourly and monthly attributes."
   ]
  },
  {
   "cell_type": "code",
   "execution_count": 4,
   "metadata": {},
   "outputs": [
    {
     "data": {
      "text/html": [
       "<div>\n",
       "<style scoped>\n",
       "    .dataframe tbody tr th:only-of-type {\n",
       "        vertical-align: middle;\n",
       "    }\n",
       "\n",
       "    .dataframe tbody tr th {\n",
       "        vertical-align: top;\n",
       "    }\n",
       "\n",
       "    .dataframe thead th {\n",
       "        text-align: right;\n",
       "    }\n",
       "</style>\n",
       "<table border=\"1\" class=\"dataframe\">\n",
       "  <thead>\n",
       "    <tr style=\"text-align: right;\">\n",
       "      <th></th>\n",
       "      <th>holiday</th>\n",
       "      <th>temp</th>\n",
       "      <th>rain_1h</th>\n",
       "      <th>snow_1h</th>\n",
       "      <th>clouds_all</th>\n",
       "      <th>weather_main</th>\n",
       "      <th>weather_description</th>\n",
       "      <th>traffic_volume</th>\n",
       "      <th>weekday</th>\n",
       "      <th>month</th>\n",
       "    </tr>\n",
       "    <tr>\n",
       "      <th>date_time</th>\n",
       "      <th></th>\n",
       "      <th></th>\n",
       "      <th></th>\n",
       "      <th></th>\n",
       "      <th></th>\n",
       "      <th></th>\n",
       "      <th></th>\n",
       "      <th></th>\n",
       "      <th></th>\n",
       "      <th></th>\n",
       "    </tr>\n",
       "  </thead>\n",
       "  <tbody>\n",
       "    <tr>\n",
       "      <th>2012-10-02 09:00:00</th>\n",
       "      <td>None</td>\n",
       "      <td>288.28</td>\n",
       "      <td>0.0</td>\n",
       "      <td>0.0</td>\n",
       "      <td>40</td>\n",
       "      <td>Clouds</td>\n",
       "      <td>scattered clouds</td>\n",
       "      <td>5545</td>\n",
       "      <td>1</td>\n",
       "      <td>10</td>\n",
       "    </tr>\n",
       "    <tr>\n",
       "      <th>2012-10-02 10:00:00</th>\n",
       "      <td>None</td>\n",
       "      <td>289.36</td>\n",
       "      <td>0.0</td>\n",
       "      <td>0.0</td>\n",
       "      <td>75</td>\n",
       "      <td>Clouds</td>\n",
       "      <td>broken clouds</td>\n",
       "      <td>4516</td>\n",
       "      <td>1</td>\n",
       "      <td>10</td>\n",
       "    </tr>\n",
       "    <tr>\n",
       "      <th>2012-10-02 11:00:00</th>\n",
       "      <td>None</td>\n",
       "      <td>289.58</td>\n",
       "      <td>0.0</td>\n",
       "      <td>0.0</td>\n",
       "      <td>90</td>\n",
       "      <td>Clouds</td>\n",
       "      <td>overcast clouds</td>\n",
       "      <td>4767</td>\n",
       "      <td>1</td>\n",
       "      <td>10</td>\n",
       "    </tr>\n",
       "    <tr>\n",
       "      <th>2012-10-02 12:00:00</th>\n",
       "      <td>None</td>\n",
       "      <td>290.13</td>\n",
       "      <td>0.0</td>\n",
       "      <td>0.0</td>\n",
       "      <td>90</td>\n",
       "      <td>Clouds</td>\n",
       "      <td>overcast clouds</td>\n",
       "      <td>5026</td>\n",
       "      <td>1</td>\n",
       "      <td>10</td>\n",
       "    </tr>\n",
       "    <tr>\n",
       "      <th>2012-10-02 13:00:00</th>\n",
       "      <td>None</td>\n",
       "      <td>291.14</td>\n",
       "      <td>0.0</td>\n",
       "      <td>0.0</td>\n",
       "      <td>75</td>\n",
       "      <td>Clouds</td>\n",
       "      <td>broken clouds</td>\n",
       "      <td>4918</td>\n",
       "      <td>1</td>\n",
       "      <td>10</td>\n",
       "    </tr>\n",
       "  </tbody>\n",
       "</table>\n",
       "</div>"
      ],
      "text/plain": [
       "                    holiday    temp  rain_1h  snow_1h  clouds_all  \\\n",
       "date_time                                                           \n",
       "2012-10-02 09:00:00    None  288.28      0.0      0.0          40   \n",
       "2012-10-02 10:00:00    None  289.36      0.0      0.0          75   \n",
       "2012-10-02 11:00:00    None  289.58      0.0      0.0          90   \n",
       "2012-10-02 12:00:00    None  290.13      0.0      0.0          90   \n",
       "2012-10-02 13:00:00    None  291.14      0.0      0.0          75   \n",
       "\n",
       "                    weather_main weather_description  traffic_volume  weekday  \\\n",
       "date_time                                                                       \n",
       "2012-10-02 09:00:00       Clouds    scattered clouds            5545        1   \n",
       "2012-10-02 10:00:00       Clouds       broken clouds            4516        1   \n",
       "2012-10-02 11:00:00       Clouds     overcast clouds            4767        1   \n",
       "2012-10-02 12:00:00       Clouds     overcast clouds            5026        1   \n",
       "2012-10-02 13:00:00       Clouds       broken clouds            4918        1   \n",
       "\n",
       "                     month  \n",
       "date_time                   \n",
       "2012-10-02 09:00:00     10  \n",
       "2012-10-02 10:00:00     10  \n",
       "2012-10-02 11:00:00     10  \n",
       "2012-10-02 12:00:00     10  \n",
       "2012-10-02 13:00:00     10  "
      ]
     },
     "execution_count": 4,
     "metadata": {},
     "output_type": "execute_result"
    }
   ],
   "source": [
    "# convert date_time-field into datetime format & add index\n",
    "df_with_dates = df\n",
    "df_with_dates['date_time'] = pd.to_datetime(df['date_time'], format='%Y-%m-%d %H:%M:%S')\n",
    "df_with_dates = df_with_dates.set_index('date_time')\n",
    "df_with_dates['weekday'] = df_with_dates.index.dayofweek\n",
    "df_with_dates['month'] = df_with_dates.index.month\n",
    "df_with_dates.head()"
   ]
  },
  {
   "cell_type": "code",
   "execution_count": 39,
   "metadata": {},
   "outputs": [
    {
     "data": {
      "text/plain": [
       "Text(0.5, 1.0, 'Traffic at 12:00')"
      ]
     },
     "execution_count": 39,
     "metadata": {},
     "output_type": "execute_result"
    },
    {
     "data": {
      "image/png": "[encoded data removed]",
      "text/plain": [
       "<Figure size 432x288 with 1 Axes>"
      ]
     },
     "metadata": {
      "needs_background": "light"
     },
     "output_type": "display_data"
    }
   ],
   "source": [
    "def traffic_at_time(time, dataframe):\n",
    "    return dataframe.at_time('{}:00'.format(time))['traffic_volume']\n",
    "\n",
    "# inefficient, but makes testing easier\n",
    "traffic_by_time = [traffic_at_time(time, df_with_dates) for time in range(24)]\n",
    "\n",
    "# make all sublists same size\n",
    "def trim(arr):\n",
    "    min_n = min([len(arr[n]) for n in range(len(arr))])\n",
    "    return [arr[n][:min_n] for n in range(len(arr))]\n",
    "\n",
    "traffic_by_time = trim(traffic_by_time)\n",
    "\n",
    "# e.g. traffic volume at 12\n",
    "\n",
    "plt.hist(traffic_by_time[12], bins=50)\n",
    "plt.title(\"Traffic at 12:00\")"
   ]
  },
  {
   "cell_type": "markdown",
   "metadata": {},
   "source": [
    "Below, we have created an easily accessible dataframe on the traffic volumes of a certain month. The histogram below is at 8 o'clock in the weekday mornings in January. "
   ]
  },
  {
   "cell_type": "code",
   "execution_count": 23,
   "metadata": {
    "scrolled": true
   },
   "outputs": [
    {
     "data": {
      "text/plain": [
       "(array([ 3.,  1.,  7., 16.,  3.,  0.,  1.,  3.,  2.,  8., 11., 20., 24.,\n",
       "        25.,  6.]),\n",
       " array([1797.        , 2113.46666667, 2429.93333333, 2746.4       ,\n",
       "        3062.86666667, 3379.33333333, 3695.8       , 4012.26666667,\n",
       "        4328.73333333, 4645.2       , 4961.66666667, 5278.13333333,\n",
       "        5594.6       , 5911.06666667, 6227.53333333, 6544.        ]),\n",
       " <a list of 15 Patch objects>)"
      ]
     },
     "execution_count": 23,
     "metadata": {},
     "output_type": "execute_result"
    },
    {
     "data": {
      "image/png": "[encoded data removed]",
      "text/plain": [
       "<Figure size 432x288 with 1 Axes>"
      ]
     },
     "metadata": {
      "needs_background": "light"
     },
     "output_type": "display_data"
    }
   ],
   "source": [
    "# holds traffic during weekdays at 8\n",
    "traffic_by_month = [traffic_at_time(8, df_with_dates[(df_with_dates['month'] == month) & (df_with_dates['weekday'] < 5)]) \n",
    "                    for month in range(1,13)]\n",
    "\n",
    "traffic_by_month = trim(traffic_by_month)\n",
    "# traffic in january during weekdays at 8\n",
    "plt.hist(traffic_by_month[1], bins=15)"
   ]
  },
  {
   "cell_type": "markdown",
   "metadata": {},
   "source": [
    "### Further analysis on data\n",
    "\n",
    "In this part we have further analysed the extra data in the dataset. We also discuss some outliers and missing data. These **insights might help us form our distributions later on in the project and analyse the results**. Thus, we see it fit to look at the data even though it is not used. Feel free to skip this part."
   ]
  },
  {
   "cell_type": "code",
   "execution_count": null,
   "metadata": {},
   "outputs": [],
   "source": [
    "#df.describe()"
   ]
  },
  {
   "cell_type": "markdown",
   "metadata": {},
   "source": [
    "There are many labelled data columns in our data. Below we can see the holiday, weather main and weather description labels."
   ]
  },
  {
   "cell_type": "code",
   "execution_count": 4,
   "metadata": {},
   "outputs": [],
   "source": [
    "#df['holiday'].value_counts()"
   ]
  },
  {
   "cell_type": "code",
   "execution_count": 5,
   "metadata": {},
   "outputs": [],
   "source": [
    "#df['weather_main'].value_counts()"
   ]
  },
  {
   "cell_type": "code",
   "execution_count": 6,
   "metadata": {},
   "outputs": [],
   "source": [
    "#df['weather_description'].value_counts()"
   ]
  },
  {
   "cell_type": "markdown",
   "metadata": {},
   "source": [
    "From the temperature data we can see that there are clear outliers. The x-axel is scaled from 0 to 300 even though there are barely any values below 250. When we dig deeper below the 250 values, we can see there are a couple of really low values. "
   ]
  },
  {
   "cell_type": "code",
   "execution_count": 8,
   "metadata": {},
   "outputs": [],
   "source": [
    "#plt.hist(df['temp'], bins=50)\n",
    "#plt.title(\"Temperature\")"
   ]
  },
  {
   "cell_type": "code",
   "execution_count": 9,
   "metadata": {},
   "outputs": [],
   "source": [
    "#df_low_temp = df[df['temp'] < 250]\n",
    "#plt.hist(df_low_temp['temp'], bins=50)\n",
    "#plt.title(\"Low temperatures\")"
   ]
  },
  {
   "cell_type": "code",
   "execution_count": 10,
   "metadata": {},
   "outputs": [],
   "source": [
    "#df[df['temp'] == 0]"
   ]
  },
  {
   "cell_type": "markdown",
   "metadata": {},
   "source": [
    "When we look at these zero Kelvin temperatures, we can see that the observations seem otherwise correct. The sky is clear, there is no rain or snow, and there are some small amounts of traffic during that time. Thus, we suggest that these datapoints only lack the temperature data and can still be used. We would fix the points by taking the average temperature during similar times (Jan-Feb nights).\n",
    "\n",
    "Next off is the rain. We can see again that there are some outliers. When we take the description of our data, we see there is a datapoint with around 9831 mm of rain. Otherwise, the data seems reasonable. There are some 50mm rain points, but this is still realistic within one hour of really heavy rain. We would set the 9831mm datapoint to an average of our very heavy rain weather descriptions."
   ]
  },
  {
   "cell_type": "code",
   "execution_count": 11,
   "metadata": {},
   "outputs": [],
   "source": [
    "#plt.hist(df['rain_1h'], bins=50)\n",
    "#plt.title(\"Rain\")"
   ]
  },
  {
   "cell_type": "code",
   "execution_count": 12,
   "metadata": {},
   "outputs": [],
   "source": [
    "#df[df['weather_description'] == 'very heavy rain']"
   ]
  },
  {
   "cell_type": "code",
   "execution_count": 13,
   "metadata": {},
   "outputs": [],
   "source": [
    "#df_rain = df[df['rain_1h'] < 9831]\n",
    "#plt.hist(df_rain['rain_1h'], bins=50)\n",
    "#plt.title(\"Corrected rain\")"
   ]
  },
  {
   "cell_type": "markdown",
   "metadata": {},
   "source": [
    "With snow and clouds, the data seems to be correct. There are a lot of datapoints with 0 snow, but there are also a lot of points where there are similar looking numbers of snow. With clouds, the data is quite dispersed."
   ]
  },
  {
   "cell_type": "code",
   "execution_count": 14,
   "metadata": {},
   "outputs": [],
   "source": [
    "#plt.hist(df['snow_1h'], bins=150)\n",
    "#plt.title(\"Snow\")"
   ]
  },
  {
   "cell_type": "code",
   "execution_count": 15,
   "metadata": {
    "scrolled": true
   },
   "outputs": [],
   "source": [
    "#plt.hist(df['clouds_all'], bins=50)\n",
    "#plt.title(\"Clouds\")"
   ]
  },
  {
   "cell_type": "markdown",
   "metadata": {},
   "source": [
    "## Description of models\n",
    "\n",
    "Like discussed in the analysis problem, there are different distributions from one hour to the next. There might even be multiple peaks in the distributions of an hourly data. We chose to use hierarchical and pooled models for our data analysis."
   ]
  },
  {
   "cell_type": "code",
   "execution_count": 52,
   "metadata": {},
   "outputs": [
    {
     "data": {
      "text/plain": [
       "Text(0.5, 1.0, 'Traffic at 8:00')"
      ]
     },
     "execution_count": 52,
     "metadata": {},
     "output_type": "execute_result"
    },
    {
     "data": {
      "image/png": "[encoded data removed]",
      "text/plain": [
       "<Figure size 432x288 with 1 Axes>"
      ]
     },
     "metadata": {
      "needs_background": "light"
     },
     "output_type": "display_data"
    }
   ],
   "source": [
    "plt.hist(traffic_by_time[8], bins=50)\n",
    "plt.title(\"Traffic at 8:00\")"
   ]
  },
  {
   "cell_type": "code",
   "execution_count": 55,
   "metadata": {},
   "outputs": [
    {
     "data": {
      "text/plain": [
       "Text(0.5, 1.0, 'Traffic at 19:00')"
      ]
     },
     "execution_count": 55,
     "metadata": {},
     "output_type": "execute_result"
    },
    {
     "data": {
      "image/png": "[encoded data removed]",
      "text/plain": [
       "<Figure size 432x288 with 1 Axes>"
      ]
     },
     "metadata": {
      "needs_background": "light"
     },
     "output_type": "display_data"
    }
   ],
   "source": [
    "plt.hist(traffic_by_time[19], bins=50)\n",
    "plt.title(\"Traffic at 19:00\")"
   ]
  },
  {
   "cell_type": "markdown",
   "metadata": {},
   "source": [
    "### Hierarchical model\n",
    "\n",
    "In our hierarchical model, we will use singular months and the differences between multiple months to assess the differences between several months and their hyperparameters. This means that we will run our model together for all the 12 months on a certain hour but then assess the results separately and see how the means and deviations work.\n",
    "\n",
    "$$\\theta_j | y_j \\sim Norm(\\mu_j , \\sigma^2_j)$$\n",
    "\n",
    "### Separate model\n",
    "\n",
    "In our separate model, we will use singular months to assess the differences between several months and their hyperparameters. This means that we will run our model separately for all the 12 months on a certain hour."
   ]
  },
  {
   "cell_type": "markdown",
   "metadata": {},
   "source": [
    "## Prior choices\n",
    "\n",
    "// priorivalintojen perusteleminen tässä\n",
    "\n",
    "Informative vai weakly informative?\n",
    "\n",
    "Perustuu luultavasti aikasempaan visuaaliseen tulkintaan noista jakaumista\n"
   ]
  },
  {
   "cell_type": "markdown",
   "metadata": {
    "nbgrader": {
     "grade": false,
     "grade_id": "cell-a5592b3f1c6bf91d",
     "locked": true,
     "schema_version": 2,
     "solution": false
    }
   },
   "source": [
    "## The model and training\n",
    "\n",
    "Next off we are going to introduce our model and train it using STAN.\n",
    "\n",
    "This model is a modified version of \"Comparison of k groups with common variance (ANOVA)\" accessed on 06/12/19 from http://avehtari.github.io/BDA_R_demos/demos_rstan/rstan_demo.html#8_comparison_of_k_groups_with_hierarchical_models"
   ]
  },
  {
   "cell_type": "code",
   "execution_count": 27,
   "metadata": {},
   "outputs": [],
   "source": [
    "separate_model = \"\"\"\n",
    "data {\n",
    "    int<lower=0> N; // number of data points\n",
    "    int<lower=0> K; // number of groups\n",
    "    int<lower=1, upper=K> x[N]; // groups indicator\n",
    "    vector[N] y; // data\n",
    "}\n",
    "\n",
    "parameters {\n",
    "    vector[K] mu; // mean per group\n",
    "    vector<lower=0>[K] sigma; // std per group\n",
    "}\n",
    "model {\n",
    "    y ~ normal(mu[x], sigma[x]);\n",
    "}\n",
    "\n",
    "generated quantities {\n",
    "    vector[K] ypred;\n",
    "    for (k in 1:K)\n",
    "        ypred[k] = normal_rng(mu[k], sigma[k]);\n",
    "}\n",
    "\n",
    "\"\"\""
   ]
  },
  {
   "cell_type": "code",
   "execution_count": 32,
   "metadata": {},
   "outputs": [
    {
     "name": "stderr",
     "output_type": "stream",
     "text": [
      "INFO:pystan:COMPILING THE C++ CODE FOR MODEL anon_model_3b1588a3ca1aae9ccdb2dd1392539dfb NOW.\n",
      "WARNING:pystan:Maximum (flat) parameter count (1000) exceeded: skipping diagnostic tests for n_eff and Rhat.\n",
      "To run all diagnostics call pystan.check_hmc_diagnostics(fit)\n"
     ]
    }
   ],
   "source": [
    "separate_stan = pystan.StanModel(model_code=separate_model)\n",
    "\n",
    "traffic_data = traffic_by_month\n",
    "\n",
    "K = len(traffic_data)\n",
    "y = [datapoint for month in traffic_data for datapoint in month]\n",
    "x = [i+1 for i in range(K) for j in range(len(traffic_data[0]))]\n",
    "N = len(x)\n",
    "\n",
    "separate_data = {\n",
    "    'N': N,\n",
    "    'K': K,\n",
    "    'y': y,\n",
    "    'x': x\n",
    "}\n",
    "\n",
    "separate_fit = separate_stan.sampling(data=separate_data)\n",
    "\n",
    "separate_samples = separate_fit.extract(permuted=True)"
   ]
  },
  {
   "cell_type": "code",
   "execution_count": 36,
   "metadata": {},
   "outputs": [
    {
     "data": {
      "image/png": "[encoded data removed]",
      "text/plain": [
       "<Figure size 432x288 with 1 Axes>"
      ]
     },
     "metadata": {
      "needs_background": "light"
     },
     "output_type": "display_data"
    }
   ],
   "source": [
    "# January\n",
    "plt.hist(separate_samples['ypred'][:,10], bins=50);\n",
    "plt.hist(separate_samples['ypred'][:,0], bins=50);"
   ]
  },
  {
   "cell_type": "code",
   "execution_count": 117,
   "metadata": {},
   "outputs": [],
   "source": [
    "hierarchical_model = \"\"\"\n",
    "data {\n",
    "    int<lower=0> N; // number of data points\n",
    "    int<lower=0> K; // number of groups\n",
    "    int<lower=1, upper=K> x[N]; // groups indicator\n",
    "    vector[N] y; // data\n",
    "}\n",
    "\n",
    "parameters {\n",
    "    real mu0; // prior mean per group\n",
    "    real sigma0; // prior std per group\n",
    "    \n",
    "    vector<lower=0>[K] mu; // mean per group\n",
    "    vector<lower=0>[K] sigma; // std per group\n",
    "}\n",
    "model {\n",
    "    mu ~ normal(mu0, sigma0);\n",
    "    y ~ normal(mu[x], sigma[x]);\n",
    "}\n",
    "\n",
    "generated quantities {\n",
    "    vector[K] ypred;\n",
    "    for (k in 1:K)\n",
    "        ypred[k] = normal_rng(mu[k], sigma[k]);\n",
    "}\n",
    "\n",
    "\"\"\""
   ]
  },
  {
   "cell_type": "code",
   "execution_count": 118,
   "metadata": {},
   "outputs": [
    {
     "name": "stderr",
     "output_type": "stream",
     "text": [
      "INFO:pystan:COMPILING THE C++ CODE FOR MODEL anon_model_9e3713e53ffb64267316daef87664576 NOW.\n"
     ]
    }
   ],
   "source": [
    "hierarchical_stan = pystan.StanModel(model_code=hierarchical_model)\n",
    "\n",
    "traffic_data = traffic_by_month\n",
    "\n",
    "K = len(traffic_data)\n",
    "y = [datapoint for month in traffic_data for datapoint in month]\n",
    "x = [i+1 for i in range(K) for j in range(len(traffic_data[0]))]\n",
    "N = len(x)\n",
    "\n",
    "hierarchical_data = {\n",
    "    'N': N,\n",
    "    'K': K,\n",
    "    'y': y,\n",
    "    'x': x\n",
    "}\n",
    "\n",
    "hierarchical_fit = hierarchical_stan.sampling(data=hierarchical_data)\n",
    "\n",
    "hierarchical_samples = hierarchical_fit.extract(permuted=True)"
   ]
  },
  {
   "cell_type": "code",
   "execution_count": 144,
   "metadata": {
    "scrolled": true
   },
   "outputs": [
    {
     "data": {
      "image/png": "[encoded data removed]",
      "text/plain": [
       "<Figure size 432x288 with 1 Axes>"
      ]
     },
     "metadata": {
      "needs_background": "light"
     },
     "output_type": "display_data"
    }
   ],
   "source": [
    "# January\n",
    "x = hierarchical_samples['ypred'][:,6]\n",
    "y = hierarchical_samples['ypred'][:,2]\n",
    "\n",
    "plt.hist([x, y], bins=50, label=['x', 'y'], rwidth=0.9)\n",
    "plt.legend(loc='upper right')\n",
    "#plt.figure(figsize=(10,20))\n",
    "plt.show()"
   ]
  }
 ],
 "metadata": {
  "celltoolbar": "Create Assignment",
  "kernelspec": {
   "display_name": "Python 3",
   "language": "python",
   "name": "python3"
  },
  "language_info": {
   "codemirror_mode": {
    "name": "ipython",
    "version": 3
   },
   "file_extension": ".py",
   "mimetype": "text/x-python",
   "name": "python",
   "nbconvert_exporter": "python",
   "pygments_lexer": "ipython3",
   "version": "3.6.8"
  }
 },
 "nbformat": 4,
 "nbformat_minor": 2
}
