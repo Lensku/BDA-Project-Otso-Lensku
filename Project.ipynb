{
 "cells": [
  {
   "cell_type": "markdown",
   "metadata": {
    "nbgrader": {
     "grade": false,
     "grade_id": "cell-a5592b3f1c6bf91d",
     "locked": true,
     "schema_version": 2,
     "solution": false
    }
   },
   "source": [
    "# Bayesian Data Analysis 2019 - Data Analysis Project Report\n",
    "\n",
    "## Loaded packages\n",
    "\n",
    "Below are the loaded packages that are used in the project"
   ]
  },
  {
   "cell_type": "code",
   "execution_count": null,
   "metadata": {},
   "outputs": [],
   "source": [
    "# Importing the libraries\n",
    "import pandas as pd\n",
    "import numpy as np\n",
    "import matplotlib.pyplot as plt\n",
    "import scipy.stats as ss"
   ]
  },
  {
   "cell_type": "markdown",
   "metadata": {},
   "source": [
    "## Load the data\n",
    "\n",
    "Below we load the data from our csv file. This file is accessible at https://archive.ics.uci.edu/ml/datasets/Metro+Interstate+Traffic+Volume \n",
    "\n",
    "We also take the first look at the data"
   ]
  },
  {
   "cell_type": "code",
   "execution_count": 2,
   "metadata": {},
   "outputs": [
    {
     "data": {
      "text/html": [
       "<div>\n",
       "<style scoped>\n",
       "    .dataframe tbody tr th:only-of-type {\n",
       "        vertical-align: middle;\n",
       "    }\n",
       "\n",
       "    .dataframe tbody tr th {\n",
       "        vertical-align: top;\n",
       "    }\n",
       "\n",
       "    .dataframe thead th {\n",
       "        text-align: right;\n",
       "    }\n",
       "</style>\n",
       "<table border=\"1\" class=\"dataframe\">\n",
       "  <thead>\n",
       "    <tr style=\"text-align: right;\">\n",
       "      <th></th>\n",
       "      <th>holiday</th>\n",
       "      <th>temp</th>\n",
       "      <th>rain_1h</th>\n",
       "      <th>snow_1h</th>\n",
       "      <th>clouds_all</th>\n",
       "      <th>weather_main</th>\n",
       "      <th>weather_description</th>\n",
       "      <th>date_time</th>\n",
       "      <th>traffic_volume</th>\n",
       "    </tr>\n",
       "  </thead>\n",
       "  <tbody>\n",
       "    <tr>\n",
       "      <th>0</th>\n",
       "      <td>None</td>\n",
       "      <td>288.28</td>\n",
       "      <td>0.0</td>\n",
       "      <td>0.0</td>\n",
       "      <td>40</td>\n",
       "      <td>Clouds</td>\n",
       "      <td>scattered clouds</td>\n",
       "      <td>2012-10-02 09:00:00</td>\n",
       "      <td>5545</td>\n",
       "    </tr>\n",
       "    <tr>\n",
       "      <th>1</th>\n",
       "      <td>None</td>\n",
       "      <td>289.36</td>\n",
       "      <td>0.0</td>\n",
       "      <td>0.0</td>\n",
       "      <td>75</td>\n",
       "      <td>Clouds</td>\n",
       "      <td>broken clouds</td>\n",
       "      <td>2012-10-02 10:00:00</td>\n",
       "      <td>4516</td>\n",
       "    </tr>\n",
       "    <tr>\n",
       "      <th>2</th>\n",
       "      <td>None</td>\n",
       "      <td>289.58</td>\n",
       "      <td>0.0</td>\n",
       "      <td>0.0</td>\n",
       "      <td>90</td>\n",
       "      <td>Clouds</td>\n",
       "      <td>overcast clouds</td>\n",
       "      <td>2012-10-02 11:00:00</td>\n",
       "      <td>4767</td>\n",
       "    </tr>\n",
       "    <tr>\n",
       "      <th>3</th>\n",
       "      <td>None</td>\n",
       "      <td>290.13</td>\n",
       "      <td>0.0</td>\n",
       "      <td>0.0</td>\n",
       "      <td>90</td>\n",
       "      <td>Clouds</td>\n",
       "      <td>overcast clouds</td>\n",
       "      <td>2012-10-02 12:00:00</td>\n",
       "      <td>5026</td>\n",
       "    </tr>\n",
       "    <tr>\n",
       "      <th>4</th>\n",
       "      <td>None</td>\n",
       "      <td>291.14</td>\n",
       "      <td>0.0</td>\n",
       "      <td>0.0</td>\n",
       "      <td>75</td>\n",
       "      <td>Clouds</td>\n",
       "      <td>broken clouds</td>\n",
       "      <td>2012-10-02 13:00:00</td>\n",
       "      <td>4918</td>\n",
       "    </tr>\n",
       "  </tbody>\n",
       "</table>\n",
       "</div>"
      ],
      "text/plain": [
       "  holiday    temp  rain_1h  snow_1h  clouds_all weather_main  \\\n",
       "0    None  288.28      0.0      0.0          40       Clouds   \n",
       "1    None  289.36      0.0      0.0          75       Clouds   \n",
       "2    None  289.58      0.0      0.0          90       Clouds   \n",
       "3    None  290.13      0.0      0.0          90       Clouds   \n",
       "4    None  291.14      0.0      0.0          75       Clouds   \n",
       "\n",
       "  weather_description            date_time  traffic_volume  \n",
       "0    scattered clouds  2012-10-02 09:00:00            5545  \n",
       "1       broken clouds  2012-10-02 10:00:00            4516  \n",
       "2     overcast clouds  2012-10-02 11:00:00            4767  \n",
       "3     overcast clouds  2012-10-02 12:00:00            5026  \n",
       "4       broken clouds  2012-10-02 13:00:00            4918  "
      ]
     },
     "execution_count": 2,
     "metadata": {},
     "output_type": "execute_result"
    }
   ],
   "source": [
    "# load data\n",
    "\n",
    "df = pd.read_csv(\"Metro_Interstate_Traffic_Volume.csv\")\n",
    "\n",
    "df.head()"
   ]
  },
  {
   "cell_type": "code",
   "execution_count": 3,
   "metadata": {},
   "outputs": [
    {
     "data": {
      "text/html": [
       "<div>\n",
       "<style scoped>\n",
       "    .dataframe tbody tr th:only-of-type {\n",
       "        vertical-align: middle;\n",
       "    }\n",
       "\n",
       "    .dataframe tbody tr th {\n",
       "        vertical-align: top;\n",
       "    }\n",
       "\n",
       "    .dataframe thead th {\n",
       "        text-align: right;\n",
       "    }\n",
       "</style>\n",
       "<table border=\"1\" class=\"dataframe\">\n",
       "  <thead>\n",
       "    <tr style=\"text-align: right;\">\n",
       "      <th></th>\n",
       "      <th>temp</th>\n",
       "      <th>rain_1h</th>\n",
       "      <th>snow_1h</th>\n",
       "      <th>clouds_all</th>\n",
       "      <th>traffic_volume</th>\n",
       "    </tr>\n",
       "  </thead>\n",
       "  <tbody>\n",
       "    <tr>\n",
       "      <th>count</th>\n",
       "      <td>48204.000000</td>\n",
       "      <td>48204.000000</td>\n",
       "      <td>48204.000000</td>\n",
       "      <td>48204.000000</td>\n",
       "      <td>48204.000000</td>\n",
       "    </tr>\n",
       "    <tr>\n",
       "      <th>mean</th>\n",
       "      <td>281.205870</td>\n",
       "      <td>0.334264</td>\n",
       "      <td>0.000222</td>\n",
       "      <td>49.362231</td>\n",
       "      <td>3259.818355</td>\n",
       "    </tr>\n",
       "    <tr>\n",
       "      <th>std</th>\n",
       "      <td>13.338232</td>\n",
       "      <td>44.789133</td>\n",
       "      <td>0.008168</td>\n",
       "      <td>39.015750</td>\n",
       "      <td>1986.860670</td>\n",
       "    </tr>\n",
       "    <tr>\n",
       "      <th>min</th>\n",
       "      <td>0.000000</td>\n",
       "      <td>0.000000</td>\n",
       "      <td>0.000000</td>\n",
       "      <td>0.000000</td>\n",
       "      <td>0.000000</td>\n",
       "    </tr>\n",
       "    <tr>\n",
       "      <th>25%</th>\n",
       "      <td>272.160000</td>\n",
       "      <td>0.000000</td>\n",
       "      <td>0.000000</td>\n",
       "      <td>1.000000</td>\n",
       "      <td>1193.000000</td>\n",
       "    </tr>\n",
       "    <tr>\n",
       "      <th>50%</th>\n",
       "      <td>282.450000</td>\n",
       "      <td>0.000000</td>\n",
       "      <td>0.000000</td>\n",
       "      <td>64.000000</td>\n",
       "      <td>3380.000000</td>\n",
       "    </tr>\n",
       "    <tr>\n",
       "      <th>75%</th>\n",
       "      <td>291.806000</td>\n",
       "      <td>0.000000</td>\n",
       "      <td>0.000000</td>\n",
       "      <td>90.000000</td>\n",
       "      <td>4933.000000</td>\n",
       "    </tr>\n",
       "    <tr>\n",
       "      <th>max</th>\n",
       "      <td>310.070000</td>\n",
       "      <td>9831.300000</td>\n",
       "      <td>0.510000</td>\n",
       "      <td>100.000000</td>\n",
       "      <td>7280.000000</td>\n",
       "    </tr>\n",
       "  </tbody>\n",
       "</table>\n",
       "</div>"
      ],
      "text/plain": [
       "               temp       rain_1h       snow_1h    clouds_all  traffic_volume\n",
       "count  48204.000000  48204.000000  48204.000000  48204.000000    48204.000000\n",
       "mean     281.205870      0.334264      0.000222     49.362231     3259.818355\n",
       "std       13.338232     44.789133      0.008168     39.015750     1986.860670\n",
       "min        0.000000      0.000000      0.000000      0.000000        0.000000\n",
       "25%      272.160000      0.000000      0.000000      1.000000     1193.000000\n",
       "50%      282.450000      0.000000      0.000000     64.000000     3380.000000\n",
       "75%      291.806000      0.000000      0.000000     90.000000     4933.000000\n",
       "max      310.070000   9831.300000      0.510000    100.000000     7280.000000"
      ]
     },
     "execution_count": 3,
     "metadata": {},
     "output_type": "execute_result"
    }
   ],
   "source": [
    "df.describe()"
   ]
  },
  {
   "cell_type": "markdown",
   "metadata": {},
   "source": [
    "There are many labelled data columns in our data. Below we can see the holiday, weather main and weather description labels."
   ]
  },
  {
   "cell_type": "code",
   "execution_count": 4,
   "metadata": {},
   "outputs": [
    {
     "data": {
      "text/plain": [
       "None                         48143\n",
       "Labor Day                        7\n",
       "Thanksgiving Day                 6\n",
       "Martin Luther King Jr Day        6\n",
       "New Years Day                    6\n",
       "Christmas Day                    6\n",
       "Columbus Day                     5\n",
       "State Fair                       5\n",
       "Veterans Day                     5\n",
       "Memorial Day                     5\n",
       "Washingtons Birthday             5\n",
       "Independence Day                 5\n",
       "Name: holiday, dtype: int64"
      ]
     },
     "execution_count": 4,
     "metadata": {},
     "output_type": "execute_result"
    }
   ],
   "source": [
    "df['holiday'].value_counts()"
   ]
  },
  {
   "cell_type": "code",
   "execution_count": 5,
   "metadata": {},
   "outputs": [
    {
     "data": {
      "text/plain": [
       "Clouds          15164\n",
       "Clear           13391\n",
       "Mist             5950\n",
       "Rain             5672\n",
       "Snow             2876\n",
       "Drizzle          1821\n",
       "Haze             1360\n",
       "Thunderstorm     1034\n",
       "Fog               912\n",
       "Smoke              20\n",
       "Squall              4\n",
       "Name: weather_main, dtype: int64"
      ]
     },
     "execution_count": 5,
     "metadata": {},
     "output_type": "execute_result"
    }
   ],
   "source": [
    "df['weather_main'].value_counts()"
   ]
  },
  {
   "cell_type": "code",
   "execution_count": 6,
   "metadata": {},
   "outputs": [
    {
     "data": {
      "text/plain": [
       "sky is clear                           11665\n",
       "mist                                    5950\n",
       "overcast clouds                         5081\n",
       "broken clouds                           4666\n",
       "scattered clouds                        3461\n",
       "light rain                              3372\n",
       "few clouds                              1956\n",
       "light snow                              1946\n",
       "Sky is Clear                            1726\n",
       "moderate rain                           1664\n",
       "haze                                    1360\n",
       "light intensity drizzle                 1100\n",
       "fog                                      912\n",
       "proximity thunderstorm                   673\n",
       "drizzle                                  651\n",
       "heavy snow                               616\n",
       "heavy intensity rain                     467\n",
       "snow                                     293\n",
       "proximity shower rain                    136\n",
       "thunderstorm                             125\n",
       "heavy intensity drizzle                   64\n",
       "thunderstorm with heavy rain              63\n",
       "thunderstorm with light rain              54\n",
       "proximity thunderstorm with rain          52\n",
       "thunderstorm with rain                    37\n",
       "smoke                                     20\n",
       "very heavy rain                           18\n",
       "thunderstorm with light drizzle           15\n",
       "proximity thunderstorm with drizzle       13\n",
       "light intensity shower rain               13\n",
       "light shower snow                         11\n",
       "shower drizzle                             6\n",
       "light rain and snow                        6\n",
       "SQUALLS                                    4\n",
       "sleet                                      3\n",
       "freezing rain                              2\n",
       "thunderstorm with drizzle                  2\n",
       "shower snow                                1\n",
       "Name: weather_description, dtype: int64"
      ]
     },
     "execution_count": 6,
     "metadata": {},
     "output_type": "execute_result"
    }
   ],
   "source": [
    "df['weather_description'].value_counts()"
   ]
  },
  {
   "cell_type": "markdown",
   "metadata": {},
   "source": [
    "Let's look at the data that we have in quantified form. First the traffic volume. This data seems good. There are no clear outliers."
   ]
  },
  {
   "cell_type": "code",
   "execution_count": 7,
   "metadata": {},
   "outputs": [
    {
     "data": {
      "text/plain": [
       "Text(0.5, 1.0, 'Traffic volume')"
      ]
     },
     "execution_count": 7,
     "metadata": {},
     "output_type": "execute_result"
    },
    {
     "data": {
      "image/png": "[encoded data removed]",
      "text/plain": [
       "<Figure size 432x288 with 1 Axes>"
      ]
     },
     "metadata": {
      "needs_background": "light"
     },
     "output_type": "display_data"
    }
   ],
   "source": [
    "plt.hist(df['traffic_volume'], bins=50)\n",
    "plt.title(\"Traffic volume\")"
   ]
  },
  {
   "cell_type": "markdown",
   "metadata": {},
   "source": [
    "From the temperature data we can see that there are clear outliers. The x-axel is scaled from 0 to 300 even though there are barely any values below 250. When we dig deeper below the 250 values, we can see there are a couple of really low values. "
   ]
  },
  {
   "cell_type": "code",
   "execution_count": 8,
   "metadata": {},
   "outputs": [
    {
     "data": {
      "text/plain": [
       "Text(0.5, 1.0, 'Temperature')"
      ]
     },
     "execution_count": 8,
     "metadata": {},
     "output_type": "execute_result"
    },
    {
     "data": {
      "image/png": "[encoded data removed]",
      "text/plain": [
       "<Figure size 432x288 with 1 Axes>"
      ]
     },
     "metadata": {
      "needs_background": "light"
     },
     "output_type": "display_data"
    }
   ],
   "source": [
    "plt.hist(df['temp'], bins=50)\n",
    "plt.title(\"Temperature\")"
   ]
  },
  {
   "cell_type": "code",
   "execution_count": 40,
   "metadata": {},
   "outputs": [
    {
     "data": {
      "text/plain": [
       "Text(0.5, 1.0, 'Low temperatures')"
      ]
     },
     "execution_count": 40,
     "metadata": {},
     "output_type": "execute_result"
    },
    {
     "data": {
      "image/png": "[encoded data removed]",
      "text/plain": [
       "<Figure size 432x288 with 1 Axes>"
      ]
     },
     "metadata": {
      "needs_background": "light"
     },
     "output_type": "display_data"
    }
   ],
   "source": [
    "df_low_temp = df[df['temp'] < 250]\n",
    "plt.hist(df_low_temp['temp'], bins=50)\n",
    "plt.title(\"Low temperatures\")"
   ]
  },
  {
   "cell_type": "code",
   "execution_count": 41,
   "metadata": {},
   "outputs": [
    {
     "data": {
      "text/html": [
       "<div>\n",
       "<style scoped>\n",
       "    .dataframe tbody tr th:only-of-type {\n",
       "        vertical-align: middle;\n",
       "    }\n",
       "\n",
       "    .dataframe tbody tr th {\n",
       "        vertical-align: top;\n",
       "    }\n",
       "\n",
       "    .dataframe thead th {\n",
       "        text-align: right;\n",
       "    }\n",
       "</style>\n",
       "<table border=\"1\" class=\"dataframe\">\n",
       "  <thead>\n",
       "    <tr style=\"text-align: right;\">\n",
       "      <th></th>\n",
       "      <th>holiday</th>\n",
       "      <th>temp</th>\n",
       "      <th>rain_1h</th>\n",
       "      <th>snow_1h</th>\n",
       "      <th>clouds_all</th>\n",
       "      <th>weather_main</th>\n",
       "      <th>weather_description</th>\n",
       "      <th>date_time</th>\n",
       "      <th>traffic_volume</th>\n",
       "    </tr>\n",
       "  </thead>\n",
       "  <tbody>\n",
       "    <tr>\n",
       "      <th>11898</th>\n",
       "      <td>None</td>\n",
       "      <td>0.0</td>\n",
       "      <td>0.0</td>\n",
       "      <td>0.0</td>\n",
       "      <td>0</td>\n",
       "      <td>Clear</td>\n",
       "      <td>sky is clear</td>\n",
       "      <td>2014-01-31 03:00:00</td>\n",
       "      <td>361</td>\n",
       "    </tr>\n",
       "    <tr>\n",
       "      <th>11899</th>\n",
       "      <td>None</td>\n",
       "      <td>0.0</td>\n",
       "      <td>0.0</td>\n",
       "      <td>0.0</td>\n",
       "      <td>0</td>\n",
       "      <td>Clear</td>\n",
       "      <td>sky is clear</td>\n",
       "      <td>2014-01-31 04:00:00</td>\n",
       "      <td>734</td>\n",
       "    </tr>\n",
       "    <tr>\n",
       "      <th>11900</th>\n",
       "      <td>None</td>\n",
       "      <td>0.0</td>\n",
       "      <td>0.0</td>\n",
       "      <td>0.0</td>\n",
       "      <td>0</td>\n",
       "      <td>Clear</td>\n",
       "      <td>sky is clear</td>\n",
       "      <td>2014-01-31 05:00:00</td>\n",
       "      <td>2557</td>\n",
       "    </tr>\n",
       "    <tr>\n",
       "      <th>11901</th>\n",
       "      <td>None</td>\n",
       "      <td>0.0</td>\n",
       "      <td>0.0</td>\n",
       "      <td>0.0</td>\n",
       "      <td>0</td>\n",
       "      <td>Clear</td>\n",
       "      <td>sky is clear</td>\n",
       "      <td>2014-01-31 06:00:00</td>\n",
       "      <td>5150</td>\n",
       "    </tr>\n",
       "    <tr>\n",
       "      <th>11946</th>\n",
       "      <td>None</td>\n",
       "      <td>0.0</td>\n",
       "      <td>0.0</td>\n",
       "      <td>0.0</td>\n",
       "      <td>0</td>\n",
       "      <td>Clear</td>\n",
       "      <td>sky is clear</td>\n",
       "      <td>2014-02-02 03:00:00</td>\n",
       "      <td>291</td>\n",
       "    </tr>\n",
       "    <tr>\n",
       "      <th>11947</th>\n",
       "      <td>None</td>\n",
       "      <td>0.0</td>\n",
       "      <td>0.0</td>\n",
       "      <td>0.0</td>\n",
       "      <td>0</td>\n",
       "      <td>Clear</td>\n",
       "      <td>sky is clear</td>\n",
       "      <td>2014-02-02 04:00:00</td>\n",
       "      <td>284</td>\n",
       "    </tr>\n",
       "    <tr>\n",
       "      <th>11948</th>\n",
       "      <td>None</td>\n",
       "      <td>0.0</td>\n",
       "      <td>0.0</td>\n",
       "      <td>0.0</td>\n",
       "      <td>0</td>\n",
       "      <td>Clear</td>\n",
       "      <td>sky is clear</td>\n",
       "      <td>2014-02-02 05:00:00</td>\n",
       "      <td>434</td>\n",
       "    </tr>\n",
       "    <tr>\n",
       "      <th>11949</th>\n",
       "      <td>None</td>\n",
       "      <td>0.0</td>\n",
       "      <td>0.0</td>\n",
       "      <td>0.0</td>\n",
       "      <td>0</td>\n",
       "      <td>Clear</td>\n",
       "      <td>sky is clear</td>\n",
       "      <td>2014-02-02 06:00:00</td>\n",
       "      <td>739</td>\n",
       "    </tr>\n",
       "    <tr>\n",
       "      <th>11950</th>\n",
       "      <td>None</td>\n",
       "      <td>0.0</td>\n",
       "      <td>0.0</td>\n",
       "      <td>0.0</td>\n",
       "      <td>0</td>\n",
       "      <td>Clear</td>\n",
       "      <td>sky is clear</td>\n",
       "      <td>2014-02-02 07:00:00</td>\n",
       "      <td>962</td>\n",
       "    </tr>\n",
       "    <tr>\n",
       "      <th>11951</th>\n",
       "      <td>None</td>\n",
       "      <td>0.0</td>\n",
       "      <td>0.0</td>\n",
       "      <td>0.0</td>\n",
       "      <td>0</td>\n",
       "      <td>Clear</td>\n",
       "      <td>sky is clear</td>\n",
       "      <td>2014-02-02 08:00:00</td>\n",
       "      <td>1670</td>\n",
       "    </tr>\n",
       "  </tbody>\n",
       "</table>\n",
       "</div>"
      ],
      "text/plain": [
       "      holiday  temp  rain_1h  snow_1h  clouds_all weather_main  \\\n",
       "11898    None   0.0      0.0      0.0           0        Clear   \n",
       "11899    None   0.0      0.0      0.0           0        Clear   \n",
       "11900    None   0.0      0.0      0.0           0        Clear   \n",
       "11901    None   0.0      0.0      0.0           0        Clear   \n",
       "11946    None   0.0      0.0      0.0           0        Clear   \n",
       "11947    None   0.0      0.0      0.0           0        Clear   \n",
       "11948    None   0.0      0.0      0.0           0        Clear   \n",
       "11949    None   0.0      0.0      0.0           0        Clear   \n",
       "11950    None   0.0      0.0      0.0           0        Clear   \n",
       "11951    None   0.0      0.0      0.0           0        Clear   \n",
       "\n",
       "      weather_description            date_time  traffic_volume  \n",
       "11898        sky is clear  2014-01-31 03:00:00             361  \n",
       "11899        sky is clear  2014-01-31 04:00:00             734  \n",
       "11900        sky is clear  2014-01-31 05:00:00            2557  \n",
       "11901        sky is clear  2014-01-31 06:00:00            5150  \n",
       "11946        sky is clear  2014-02-02 03:00:00             291  \n",
       "11947        sky is clear  2014-02-02 04:00:00             284  \n",
       "11948        sky is clear  2014-02-02 05:00:00             434  \n",
       "11949        sky is clear  2014-02-02 06:00:00             739  \n",
       "11950        sky is clear  2014-02-02 07:00:00             962  \n",
       "11951        sky is clear  2014-02-02 08:00:00            1670  "
      ]
     },
     "execution_count": 41,
     "metadata": {},
     "output_type": "execute_result"
    }
   ],
   "source": [
    "df[df['temp'] == 0]"
   ]
  },
  {
   "cell_type": "markdown",
   "metadata": {},
   "source": [
    "When we look at these zero Kelvin temperatures, we can see that the observations seem otherwise correct. The sky is clear, there is no rain or snow, and there are some small amounts of traffic during that time. Thus, we suggest that these datapoints only lack the temperature data and can still be used. We will fix the points by taking the average temperature during similar times (Jan-Feb nights).\n",
    "\n",
    "Next off is the rain. We can see again that there are some outliers. When we take the description of our data, we see there is a datapoint with around 9831 mm of rain. Otherwise, the data seems reasonable. There are some 50mm rain points, but this is still realistic within one hour of really heavy rain. We will set the 9831mm datapoint to an average of our very heavy rain weather descriptions"
   ]
  },
  {
   "cell_type": "code",
   "execution_count": 8,
   "metadata": {},
   "outputs": [
    {
     "data": {
      "text/plain": [
       "Text(0.5, 1.0, 'Rain')"
      ]
     },
     "execution_count": 8,
     "metadata": {},
     "output_type": "execute_result"
    },
    {
     "data": {
      "image/png": "[encoded data removed]",
      "text/plain": [
       "<Figure size 432x288 with 1 Axes>"
      ]
     },
     "metadata": {
      "needs_background": "light"
     },
     "output_type": "display_data"
    }
   ],
   "source": [
    "plt.hist(df['rain_1h'], bins=50)\n",
    "plt.title(\"Rain\")"
   ]
  },
  {
   "cell_type": "code",
   "execution_count": 50,
   "metadata": {},
   "outputs": [
    {
     "data": {
      "text/html": [
       "<div>\n",
       "<style scoped>\n",
       "    .dataframe tbody tr th:only-of-type {\n",
       "        vertical-align: middle;\n",
       "    }\n",
       "\n",
       "    .dataframe tbody tr th {\n",
       "        vertical-align: top;\n",
       "    }\n",
       "\n",
       "    .dataframe thead th {\n",
       "        text-align: right;\n",
       "    }\n",
       "</style>\n",
       "<table border=\"1\" class=\"dataframe\">\n",
       "  <thead>\n",
       "    <tr style=\"text-align: right;\">\n",
       "      <th></th>\n",
       "      <th>holiday</th>\n",
       "      <th>temp</th>\n",
       "      <th>rain_1h</th>\n",
       "      <th>snow_1h</th>\n",
       "      <th>clouds_all</th>\n",
       "      <th>weather_main</th>\n",
       "      <th>weather_description</th>\n",
       "      <th>date_time</th>\n",
       "      <th>traffic_volume</th>\n",
       "    </tr>\n",
       "  </thead>\n",
       "  <tbody>\n",
       "    <tr>\n",
       "      <th>7133</th>\n",
       "      <td>None</td>\n",
       "      <td>291.76</td>\n",
       "      <td>16.38</td>\n",
       "      <td>0.0</td>\n",
       "      <td>76</td>\n",
       "      <td>Rain</td>\n",
       "      <td>very heavy rain</td>\n",
       "      <td>2013-06-22 05:00:00</td>\n",
       "      <td>635</td>\n",
       "    </tr>\n",
       "    <tr>\n",
       "      <th>7179</th>\n",
       "      <td>None</td>\n",
       "      <td>295.82</td>\n",
       "      <td>44.45</td>\n",
       "      <td>0.0</td>\n",
       "      <td>76</td>\n",
       "      <td>Rain</td>\n",
       "      <td>very heavy rain</td>\n",
       "      <td>2013-06-24 11:00:00</td>\n",
       "      <td>4802</td>\n",
       "    </tr>\n",
       "    <tr>\n",
       "      <th>7664</th>\n",
       "      <td>None</td>\n",
       "      <td>292.82</td>\n",
       "      <td>19.90</td>\n",
       "      <td>0.0</td>\n",
       "      <td>20</td>\n",
       "      <td>Rain</td>\n",
       "      <td>very heavy rain</td>\n",
       "      <td>2013-07-14 05:00:00</td>\n",
       "      <td>542</td>\n",
       "    </tr>\n",
       "    <tr>\n",
       "      <th>7667</th>\n",
       "      <td>None</td>\n",
       "      <td>292.65</td>\n",
       "      <td>25.32</td>\n",
       "      <td>0.0</td>\n",
       "      <td>8</td>\n",
       "      <td>Rain</td>\n",
       "      <td>very heavy rain</td>\n",
       "      <td>2013-07-14 06:00:00</td>\n",
       "      <td>958</td>\n",
       "    </tr>\n",
       "    <tr>\n",
       "      <th>7670</th>\n",
       "      <td>None</td>\n",
       "      <td>292.87</td>\n",
       "      <td>21.42</td>\n",
       "      <td>0.0</td>\n",
       "      <td>90</td>\n",
       "      <td>Rain</td>\n",
       "      <td>very heavy rain</td>\n",
       "      <td>2013-07-14 07:00:00</td>\n",
       "      <td>1745</td>\n",
       "    </tr>\n",
       "    <tr>\n",
       "      <th>8247</th>\n",
       "      <td>None</td>\n",
       "      <td>289.10</td>\n",
       "      <td>55.63</td>\n",
       "      <td>0.0</td>\n",
       "      <td>68</td>\n",
       "      <td>Rain</td>\n",
       "      <td>very heavy rain</td>\n",
       "      <td>2013-08-07 02:00:00</td>\n",
       "      <td>315</td>\n",
       "    </tr>\n",
       "    <tr>\n",
       "      <th>10734</th>\n",
       "      <td>None</td>\n",
       "      <td>262.65</td>\n",
       "      <td>18.80</td>\n",
       "      <td>0.0</td>\n",
       "      <td>64</td>\n",
       "      <td>Rain</td>\n",
       "      <td>very heavy rain</td>\n",
       "      <td>2013-12-16 19:00:00</td>\n",
       "      <td>2755</td>\n",
       "    </tr>\n",
       "    <tr>\n",
       "      <th>10806</th>\n",
       "      <td>None</td>\n",
       "      <td>264.50</td>\n",
       "      <td>28.70</td>\n",
       "      <td>0.0</td>\n",
       "      <td>64</td>\n",
       "      <td>Rain</td>\n",
       "      <td>very heavy rain</td>\n",
       "      <td>2013-12-19 23:00:00</td>\n",
       "      <td>1190</td>\n",
       "    </tr>\n",
       "    <tr>\n",
       "      <th>14853</th>\n",
       "      <td>None</td>\n",
       "      <td>298.21</td>\n",
       "      <td>18.03</td>\n",
       "      <td>0.0</td>\n",
       "      <td>0</td>\n",
       "      <td>Rain</td>\n",
       "      <td>very heavy rain</td>\n",
       "      <td>2014-06-02 16:00:00</td>\n",
       "      <td>6443</td>\n",
       "    </tr>\n",
       "    <tr>\n",
       "      <th>16300</th>\n",
       "      <td>None</td>\n",
       "      <td>294.87</td>\n",
       "      <td>23.80</td>\n",
       "      <td>0.0</td>\n",
       "      <td>90</td>\n",
       "      <td>Rain</td>\n",
       "      <td>very heavy rain</td>\n",
       "      <td>2015-07-06 03:00:00</td>\n",
       "      <td>346</td>\n",
       "    </tr>\n",
       "    <tr>\n",
       "      <th>16504</th>\n",
       "      <td>None</td>\n",
       "      <td>292.02</td>\n",
       "      <td>27.57</td>\n",
       "      <td>0.0</td>\n",
       "      <td>90</td>\n",
       "      <td>Rain</td>\n",
       "      <td>very heavy rain</td>\n",
       "      <td>2015-07-13 00:00:00</td>\n",
       "      <td>492</td>\n",
       "    </tr>\n",
       "    <tr>\n",
       "      <th>16923</th>\n",
       "      <td>None</td>\n",
       "      <td>295.12</td>\n",
       "      <td>20.24</td>\n",
       "      <td>0.0</td>\n",
       "      <td>90</td>\n",
       "      <td>Rain</td>\n",
       "      <td>very heavy rain</td>\n",
       "      <td>2015-07-28 07:00:00</td>\n",
       "      <td>4302</td>\n",
       "    </tr>\n",
       "    <tr>\n",
       "      <th>17437</th>\n",
       "      <td>None</td>\n",
       "      <td>294.49</td>\n",
       "      <td>25.46</td>\n",
       "      <td>0.0</td>\n",
       "      <td>90</td>\n",
       "      <td>Rain</td>\n",
       "      <td>very heavy rain</td>\n",
       "      <td>2015-08-16 21:00:00</td>\n",
       "      <td>2118</td>\n",
       "    </tr>\n",
       "    <tr>\n",
       "      <th>24872</th>\n",
       "      <td>None</td>\n",
       "      <td>302.11</td>\n",
       "      <td>9831.30</td>\n",
       "      <td>0.0</td>\n",
       "      <td>75</td>\n",
       "      <td>Rain</td>\n",
       "      <td>very heavy rain</td>\n",
       "      <td>2016-07-11 17:00:00</td>\n",
       "      <td>5535</td>\n",
       "    </tr>\n",
       "    <tr>\n",
       "      <th>25481</th>\n",
       "      <td>None</td>\n",
       "      <td>294.92</td>\n",
       "      <td>16.51</td>\n",
       "      <td>0.0</td>\n",
       "      <td>32</td>\n",
       "      <td>Rain</td>\n",
       "      <td>very heavy rain</td>\n",
       "      <td>2016-08-04 07:00:00</td>\n",
       "      <td>5724</td>\n",
       "    </tr>\n",
       "    <tr>\n",
       "      <th>25639</th>\n",
       "      <td>None</td>\n",
       "      <td>292.70</td>\n",
       "      <td>18.42</td>\n",
       "      <td>0.0</td>\n",
       "      <td>80</td>\n",
       "      <td>Rain</td>\n",
       "      <td>very heavy rain</td>\n",
       "      <td>2016-08-10 21:00:00</td>\n",
       "      <td>1904</td>\n",
       "    </tr>\n",
       "    <tr>\n",
       "      <th>25779</th>\n",
       "      <td>None</td>\n",
       "      <td>297.71</td>\n",
       "      <td>31.75</td>\n",
       "      <td>0.0</td>\n",
       "      <td>0</td>\n",
       "      <td>Rain</td>\n",
       "      <td>very heavy rain</td>\n",
       "      <td>2016-08-16 17:00:00</td>\n",
       "      <td>4913</td>\n",
       "    </tr>\n",
       "    <tr>\n",
       "      <th>25961</th>\n",
       "      <td>None</td>\n",
       "      <td>294.07</td>\n",
       "      <td>20.07</td>\n",
       "      <td>0.0</td>\n",
       "      <td>40</td>\n",
       "      <td>Rain</td>\n",
       "      <td>very heavy rain</td>\n",
       "      <td>2016-08-23 22:00:00</td>\n",
       "      <td>1520</td>\n",
       "    </tr>\n",
       "  </tbody>\n",
       "</table>\n",
       "</div>"
      ],
      "text/plain": [
       "      holiday    temp  rain_1h  snow_1h  clouds_all weather_main  \\\n",
       "7133     None  291.76    16.38      0.0          76         Rain   \n",
       "7179     None  295.82    44.45      0.0          76         Rain   \n",
       "7664     None  292.82    19.90      0.0          20         Rain   \n",
       "7667     None  292.65    25.32      0.0           8         Rain   \n",
       "7670     None  292.87    21.42      0.0          90         Rain   \n",
       "8247     None  289.10    55.63      0.0          68         Rain   \n",
       "10734    None  262.65    18.80      0.0          64         Rain   \n",
       "10806    None  264.50    28.70      0.0          64         Rain   \n",
       "14853    None  298.21    18.03      0.0           0         Rain   \n",
       "16300    None  294.87    23.80      0.0          90         Rain   \n",
       "16504    None  292.02    27.57      0.0          90         Rain   \n",
       "16923    None  295.12    20.24      0.0          90         Rain   \n",
       "17437    None  294.49    25.46      0.0          90         Rain   \n",
       "24872    None  302.11  9831.30      0.0          75         Rain   \n",
       "25481    None  294.92    16.51      0.0          32         Rain   \n",
       "25639    None  292.70    18.42      0.0          80         Rain   \n",
       "25779    None  297.71    31.75      0.0           0         Rain   \n",
       "25961    None  294.07    20.07      0.0          40         Rain   \n",
       "\n",
       "      weather_description            date_time  traffic_volume  \n",
       "7133      very heavy rain  2013-06-22 05:00:00             635  \n",
       "7179      very heavy rain  2013-06-24 11:00:00            4802  \n",
       "7664      very heavy rain  2013-07-14 05:00:00             542  \n",
       "7667      very heavy rain  2013-07-14 06:00:00             958  \n",
       "7670      very heavy rain  2013-07-14 07:00:00            1745  \n",
       "8247      very heavy rain  2013-08-07 02:00:00             315  \n",
       "10734     very heavy rain  2013-12-16 19:00:00            2755  \n",
       "10806     very heavy rain  2013-12-19 23:00:00            1190  \n",
       "14853     very heavy rain  2014-06-02 16:00:00            6443  \n",
       "16300     very heavy rain  2015-07-06 03:00:00             346  \n",
       "16504     very heavy rain  2015-07-13 00:00:00             492  \n",
       "16923     very heavy rain  2015-07-28 07:00:00            4302  \n",
       "17437     very heavy rain  2015-08-16 21:00:00            2118  \n",
       "24872     very heavy rain  2016-07-11 17:00:00            5535  \n",
       "25481     very heavy rain  2016-08-04 07:00:00            5724  \n",
       "25639     very heavy rain  2016-08-10 21:00:00            1904  \n",
       "25779     very heavy rain  2016-08-16 17:00:00            4913  \n",
       "25961     very heavy rain  2016-08-23 22:00:00            1520  "
      ]
     },
     "execution_count": 50,
     "metadata": {},
     "output_type": "execute_result"
    }
   ],
   "source": [
    "df[df['weather_description'] == 'very heavy rain']"
   ]
  },
  {
   "cell_type": "code",
   "execution_count": 51,
   "metadata": {},
   "outputs": [
    {
     "data": {
      "text/plain": [
       "Text(0.5, 1.0, 'Corrected rain')"
      ]
     },
     "execution_count": 51,
     "metadata": {},
     "output_type": "execute_result"
    },
    {
     "data": {
      "image/png": "[encoded data removed]",
      "text/plain": [
       "<Figure size 432x288 with 1 Axes>"
      ]
     },
     "metadata": {
      "needs_background": "light"
     },
     "output_type": "display_data"
    }
   ],
   "source": [
    "df_rain = df[df['rain_1h'] < 9831]\n",
    "plt.hist(df_rain['rain_1h'], bins=50)\n",
    "plt.title(\"Corrected rain\")"
   ]
  },
  {
   "cell_type": "markdown",
   "metadata": {},
   "source": [
    "With snow and clouds, the data seems to be correct. There are a lot of datapoints with 0 snow, but there are also a lot of points where there are similar looking numbers of snow. With clouds, the data is quite dispersed."
   ]
  },
  {
   "cell_type": "code",
   "execution_count": 54,
   "metadata": {},
   "outputs": [
    {
     "data": {
      "text/plain": [
       "Text(0.5, 1.0, 'Snow')"
      ]
     },
     "execution_count": 54,
     "metadata": {},
     "output_type": "execute_result"
    },
    {
     "data": {
      "image/png": "[encoded data removed]",
      "text/plain": [
       "<Figure size 432x288 with 1 Axes>"
      ]
     },
     "metadata": {
      "needs_background": "light"
     },
     "output_type": "display_data"
    }
   ],
   "source": [
    "plt.hist(df['snow_1h'], bins=150)\n",
    "plt.title(\"Snow\")"
   ]
  },
  {
   "cell_type": "code",
   "execution_count": 10,
   "metadata": {
    "scrolled": true
   },
   "outputs": [
    {
     "data": {
      "text/plain": [
       "Text(0.5, 1.0, 'Clouds')"
      ]
     },
     "execution_count": 10,
     "metadata": {},
     "output_type": "execute_result"
    },
    {
     "data": {
      "image/png": "[encoded data removed]",
      "text/plain": [
       "<Figure size 432x288 with 1 Axes>"
      ]
     },
     "metadata": {
      "needs_background": "light"
     },
     "output_type": "display_data"
    }
   ],
   "source": [
    "plt.hist(df['clouds_all'], bins=50)\n",
    "plt.title(\"Clouds\")"
   ]
  },
  {
   "cell_type": "code",
   "execution_count": 24,
   "metadata": {},
   "outputs": [
    {
     "data": {
      "text/plain": [
       "Text(0.5, 1.0, 'Traffic at 12:00')"
      ]
     },
     "execution_count": 24,
     "metadata": {},
     "output_type": "execute_result"
    },
    {
     "data": {
      "image/png": "[encoded data removed]",
      "text/plain": [
       "<Figure size 432x288 with 1 Axes>"
      ]
     },
     "metadata": {
      "needs_background": "light"
     },
     "output_type": "display_data"
    }
   ],
   "source": [
    "# daytime-specific traffic data:\n",
    "import datetime\n",
    "\n",
    "# convert date_time-field into datetime format & add index\n",
    "df_with_dates = df\n",
    "df_with_dates['date_time'] = pd.to_datetime(df['date_time'], format='%Y-%m-%d %H:%M:%S')\n",
    "df_with_dates = df_with_dates.set_index('date_time')\n",
    "\n",
    "df_with_dates['weekday'] = df_with_dates.index.dayofweek\n",
    "df_with_dates\n",
    "\n",
    "plt.hist(df_with_dates.between_time('11:45','12:15')['traffic_volume'], bins=50)\n",
    "plt.title(\"Traffic at 12:00\")"
   ]
  },
  {
   "cell_type": "markdown",
   "metadata": {
    "nbgrader": {
     "grade": false,
     "grade_id": "cell-a5592b3f1c6bf91d",
     "locked": true,
     "schema_version": 2,
     "solution": false
    }
   },
   "source": [
    "# Including source code\n",
    "\n",
    "In general, all code needed to produce the essential parts needs to be included, so that it is possible to see, for peer reviewers, where errors may have happened\n",
    "\n",
    "You can always look at the open rubrics to see how and what is asked for in each exercise.\n",
    "\n",
    "Try to avoid printing an excessive amount of code and think about what is essential for showing how did you get the result.\n",
    "\n",
    "Write clear code. The code is also part of your report and clarity of the report affects your score. If the code is not self-explanatory, add comments. In a notebook, you can interleave explaining text and code.\n",
    "\n",
    "If in doubt additional source code can be included in an appendix. \n",
    "\n",
    "# Format instructions\n",
    "\n",
    "All exercises in the assignment should start with header 1 fully specifying that it is exercise X, as:\n",
    "\n",
    "# Exercise 1)\n",
    "## a)\n",
    "\n",
    "Subtasks in each assignments should be numbered and use header 2 (two ##). \n",
    "\n",
    "We can easily add R code as chunks in the following way:"
   ]
  },
  {
   "cell_type": "code",
   "execution_count": null,
   "metadata": {},
   "outputs": [],
   "source": [
    "1+1"
   ]
  },
  {
   "cell_type": "markdown",
   "metadata": {
    "nbgrader": {
     "grade": false,
     "grade_id": "cell-a5592b3f1c6bf91d",
     "locked": true,
     "schema_version": 2,
     "solution": false
    }
   },
   "source": [
    "# Plots\n",
    "\n",
    "Include plots, where we can specify the width and height of the figure.\n",
    "\n",
    "\n",
    "# Equations\n",
    "\n",
    "Equations should be correctly formated using LaTeX or being included as images if, for example, Microsoft Equations is used. \n",
    "\n",
    "In Markdown, equations can easily be formulated using LaTeX in line as $f(k) = {n \\choose k} p^{k} (1-p)^{n-k}$ or use the math environment as follows:\n",
    "\n",
    "$$\\begin{array}{ccc}\n",
    "x_{11} & x_{12} & x_{13}\\\\\n",
    "x_{21} & x_{22} & x_{23}\n",
    "\\end{array}$$\n",
    "\n",
    "If you are new to LaTeX equations, you could use the [latext4technics](https://www.latex4technics.com/) equation editor to create LaTeX equations to include in the report.\n",
    "\n",
    "More information on using LaTeX in R markdown can be found in 2.5.3 in [R Markdown: The Definite Guide](https://bookdown.org/yihui/rmarkdown/).\n",
    "\n",
    "A short introduction to equations in LaTeX can be found [here](https://www.overleaf.com/learn/latex/Mathematical_expressions).\n",
    "\n",
    "# Language\n",
    "\n",
    "The language used in the course is English. Hence the report needs to be written in English.\n",
    "\n",
    "# Jupyter Notebook and other report formats\n",
    "You are allowed to use any format to produce your report, such as Jupyter Notebook, as long as you obide by the instructions in this \n",
    "\n",
    "template."
   ]
  }
 ],
 "metadata": {
  "celltoolbar": "Create Assignment",
  "kernelspec": {
   "display_name": "Python 3",
   "language": "python",
   "name": "python3"
  },
  "language_info": {
   "codemirror_mode": {
    "name": "ipython",
    "version": 3
   },
   "file_extension": ".py",
   "mimetype": "text/x-python",
   "name": "python",
   "nbconvert_exporter": "python",
   "pygments_lexer": "ipython3",
   "version": "3.7.1"
  }
 },
 "nbformat": 4,
 "nbformat_minor": 2
}
