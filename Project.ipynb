{
 "cells": [
  {
   "cell_type": "markdown",
   "metadata": {
    "nbgrader": {
     "grade": false,
     "grade_id": "cell-a5592b3f1c6bf91d",
     "locked": true,
     "schema_version": 2,
     "solution": false
    }
   },
   "source": [
    "# Bayesian Data Analysis 2019 - Data Analysis Project Report\n",
    "\n",
    "## Analysis problem\n",
    "\n",
    "The aim of this project is to analyse variation from month to month in public transportation. The variations from rush hours to late night are obvious to all of us using public transport. The decision makers are not necessarily analysing these changes between different months, even though it could prove valuable for example, in the maintenance, training and testing of equipment or operators. Therefore we want to look at the monthly variation from multiple years of data.\n",
    "\n",
    "Furthermore, we want to analyse differences and correlations in the rush hours and quieter hours from one month to the other. For example, Holidays during December might have less difference from time to time, since there are less working days.\n",
    "\n",
    "## Loaded packages\n",
    "\n",
    "Below are the loaded packages that are used in the project. Remember to make sure that all the packages are installed into the system (for example, pystan)."
   ]
  },
  {
   "cell_type": "code",
   "execution_count": 1,
   "metadata": {},
   "outputs": [],
   "source": [
    "# Importing the libraries\n",
    "import pandas as pd\n",
    "import numpy as np\n",
    "import matplotlib.pyplot as plt\n",
    "import scipy.stats as ss\n",
    "import pystan\n",
    "import datetime\n",
    "import arviz as az\n",
    "import seaborn as sns"
   ]
  },
  {
   "cell_type": "markdown",
   "metadata": {},
   "source": [
    "# Description of data\n",
    "\n",
    "The data set used is provided by UCI Machine Learning Repository.\n",
    "\n",
    "The data set is called \"Metro Interstate Traffic Volume Data Set\", and it is described by the provider as follows: \"Hourly Interstate 94 Westbound traffic volume for MN DoT ATR station 301, roughly midway between Minneapolis and St Paul, MN. Hourly weather features and holidays included for impacts on traffic volume.\"\n",
    "\n",
    "Below we load the data from our csv file. This file is accessible at https://archive.ics.uci.edu/ml/datasets/Metro+Interstate+Traffic+Volume \n",
    "\n",
    "The part of the data we are the most interested in are the date_time and traffic_volume. From date_time we can easily capture the months and hours of data and from traffic volume, we get the number of passengers passing the specific station starting the mentioned hour. We are going to analyse the working days in order to avoid biases in the distributions and to focus on the business side of operating the transportation."
   ]
  },
  {
   "cell_type": "code",
   "execution_count": 2,
   "metadata": {},
   "outputs": [
    {
     "data": {
      "text/html": [
       "<div>\n",
       "<style scoped>\n",
       "    .dataframe tbody tr th:only-of-type {\n",
       "        vertical-align: middle;\n",
       "    }\n",
       "\n",
       "    .dataframe tbody tr th {\n",
       "        vertical-align: top;\n",
       "    }\n",
       "\n",
       "    .dataframe thead th {\n",
       "        text-align: right;\n",
       "    }\n",
       "</style>\n",
       "<table border=\"1\" class=\"dataframe\">\n",
       "  <thead>\n",
       "    <tr style=\"text-align: right;\">\n",
       "      <th></th>\n",
       "      <th>holiday</th>\n",
       "      <th>temp</th>\n",
       "      <th>rain_1h</th>\n",
       "      <th>snow_1h</th>\n",
       "      <th>clouds_all</th>\n",
       "      <th>weather_main</th>\n",
       "      <th>weather_description</th>\n",
       "      <th>date_time</th>\n",
       "      <th>traffic_volume</th>\n",
       "    </tr>\n",
       "  </thead>\n",
       "  <tbody>\n",
       "    <tr>\n",
       "      <th>0</th>\n",
       "      <td>None</td>\n",
       "      <td>288.28</td>\n",
       "      <td>0.0</td>\n",
       "      <td>0.0</td>\n",
       "      <td>40</td>\n",
       "      <td>Clouds</td>\n",
       "      <td>scattered clouds</td>\n",
       "      <td>2012-10-02 09:00:00</td>\n",
       "      <td>5545</td>\n",
       "    </tr>\n",
       "    <tr>\n",
       "      <th>1</th>\n",
       "      <td>None</td>\n",
       "      <td>289.36</td>\n",
       "      <td>0.0</td>\n",
       "      <td>0.0</td>\n",
       "      <td>75</td>\n",
       "      <td>Clouds</td>\n",
       "      <td>broken clouds</td>\n",
       "      <td>2012-10-02 10:00:00</td>\n",
       "      <td>4516</td>\n",
       "    </tr>\n",
       "    <tr>\n",
       "      <th>2</th>\n",
       "      <td>None</td>\n",
       "      <td>289.58</td>\n",
       "      <td>0.0</td>\n",
       "      <td>0.0</td>\n",
       "      <td>90</td>\n",
       "      <td>Clouds</td>\n",
       "      <td>overcast clouds</td>\n",
       "      <td>2012-10-02 11:00:00</td>\n",
       "      <td>4767</td>\n",
       "    </tr>\n",
       "    <tr>\n",
       "      <th>3</th>\n",
       "      <td>None</td>\n",
       "      <td>290.13</td>\n",
       "      <td>0.0</td>\n",
       "      <td>0.0</td>\n",
       "      <td>90</td>\n",
       "      <td>Clouds</td>\n",
       "      <td>overcast clouds</td>\n",
       "      <td>2012-10-02 12:00:00</td>\n",
       "      <td>5026</td>\n",
       "    </tr>\n",
       "    <tr>\n",
       "      <th>4</th>\n",
       "      <td>None</td>\n",
       "      <td>291.14</td>\n",
       "      <td>0.0</td>\n",
       "      <td>0.0</td>\n",
       "      <td>75</td>\n",
       "      <td>Clouds</td>\n",
       "      <td>broken clouds</td>\n",
       "      <td>2012-10-02 13:00:00</td>\n",
       "      <td>4918</td>\n",
       "    </tr>\n",
       "  </tbody>\n",
       "</table>\n",
       "</div>"
      ],
      "text/plain": [
       "  holiday    temp  rain_1h  snow_1h  clouds_all weather_main  \\\n",
       "0    None  288.28      0.0      0.0          40       Clouds   \n",
       "1    None  289.36      0.0      0.0          75       Clouds   \n",
       "2    None  289.58      0.0      0.0          90       Clouds   \n",
       "3    None  290.13      0.0      0.0          90       Clouds   \n",
       "4    None  291.14      0.0      0.0          75       Clouds   \n",
       "\n",
       "  weather_description            date_time  traffic_volume  \n",
       "0    scattered clouds  2012-10-02 09:00:00            5545  \n",
       "1       broken clouds  2012-10-02 10:00:00            4516  \n",
       "2     overcast clouds  2012-10-02 11:00:00            4767  \n",
       "3     overcast clouds  2012-10-02 12:00:00            5026  \n",
       "4       broken clouds  2012-10-02 13:00:00            4918  "
      ]
     },
     "execution_count": 2,
     "metadata": {},
     "output_type": "execute_result"
    }
   ],
   "source": [
    "# load data\n",
    "\n",
    "df = pd.read_csv(\"Metro_Interstate_Traffic_Volume.csv\")\n",
    "\n",
    "df.head()"
   ]
  },
  {
   "cell_type": "markdown",
   "metadata": {},
   "source": [
    "Let's first look at the data in traffic volume. Below, we can see a histogram of passengers each hour. There are clearly a lot of really slow hours. Then, around 3000 and 4500 there are a couple of spikes. These spikes could be rush hours, last trains going through the station or similar, but we are not sure at this point. There do not seem to be clear anomalies, since the data is well spread out and the scale seems to fit automatically quite well, i.e. there are no singular values of 10000 or more."
   ]
  },
  {
   "cell_type": "code",
   "execution_count": 3,
   "metadata": {},
   "outputs": [
    {
     "data": {
      "text/plain": [
       "Text(0.5, 1.0, 'Traffic volume')"
      ]
     },
     "execution_count": 3,
     "metadata": {},
     "output_type": "execute_result"
    },
    {
     "data": {
      "image/png": "[encoded data removed]",
      "text/plain": [
       "<Figure size 432x288 with 1 Axes>"
      ]
     },
     "metadata": {
      "needs_background": "light"
     },
     "output_type": "display_data"
    }
   ],
   "source": [
    "plt.hist(df['traffic_volume'], bins=150)\n",
    "plt.title(\"Traffic volume\")"
   ]
  },
  {
   "cell_type": "markdown",
   "metadata": {},
   "source": [
    "Next, we will edit our data in order to gain better access into the hourly and monthly attributes."
   ]
  },
  {
   "cell_type": "code",
   "execution_count": 4,
   "metadata": {},
   "outputs": [
    {
     "data": {
      "text/html": [
       "<div>\n",
       "<style scoped>\n",
       "    .dataframe tbody tr th:only-of-type {\n",
       "        vertical-align: middle;\n",
       "    }\n",
       "\n",
       "    .dataframe tbody tr th {\n",
       "        vertical-align: top;\n",
       "    }\n",
       "\n",
       "    .dataframe thead th {\n",
       "        text-align: right;\n",
       "    }\n",
       "</style>\n",
       "<table border=\"1\" class=\"dataframe\">\n",
       "  <thead>\n",
       "    <tr style=\"text-align: right;\">\n",
       "      <th></th>\n",
       "      <th>holiday</th>\n",
       "      <th>temp</th>\n",
       "      <th>rain_1h</th>\n",
       "      <th>snow_1h</th>\n",
       "      <th>clouds_all</th>\n",
       "      <th>weather_main</th>\n",
       "      <th>weather_description</th>\n",
       "      <th>traffic_volume</th>\n",
       "      <th>weekday</th>\n",
       "      <th>month</th>\n",
       "    </tr>\n",
       "    <tr>\n",
       "      <th>date_time</th>\n",
       "      <th></th>\n",
       "      <th></th>\n",
       "      <th></th>\n",
       "      <th></th>\n",
       "      <th></th>\n",
       "      <th></th>\n",
       "      <th></th>\n",
       "      <th></th>\n",
       "      <th></th>\n",
       "      <th></th>\n",
       "    </tr>\n",
       "  </thead>\n",
       "  <tbody>\n",
       "    <tr>\n",
       "      <th>2012-10-02 09:00:00</th>\n",
       "      <td>None</td>\n",
       "      <td>288.28</td>\n",
       "      <td>0.0</td>\n",
       "      <td>0.0</td>\n",
       "      <td>40</td>\n",
       "      <td>Clouds</td>\n",
       "      <td>scattered clouds</td>\n",
       "      <td>5545</td>\n",
       "      <td>1</td>\n",
       "      <td>10</td>\n",
       "    </tr>\n",
       "    <tr>\n",
       "      <th>2012-10-02 10:00:00</th>\n",
       "      <td>None</td>\n",
       "      <td>289.36</td>\n",
       "      <td>0.0</td>\n",
       "      <td>0.0</td>\n",
       "      <td>75</td>\n",
       "      <td>Clouds</td>\n",
       "      <td>broken clouds</td>\n",
       "      <td>4516</td>\n",
       "      <td>1</td>\n",
       "      <td>10</td>\n",
       "    </tr>\n",
       "    <tr>\n",
       "      <th>2012-10-02 11:00:00</th>\n",
       "      <td>None</td>\n",
       "      <td>289.58</td>\n",
       "      <td>0.0</td>\n",
       "      <td>0.0</td>\n",
       "      <td>90</td>\n",
       "      <td>Clouds</td>\n",
       "      <td>overcast clouds</td>\n",
       "      <td>4767</td>\n",
       "      <td>1</td>\n",
       "      <td>10</td>\n",
       "    </tr>\n",
       "    <tr>\n",
       "      <th>2012-10-02 12:00:00</th>\n",
       "      <td>None</td>\n",
       "      <td>290.13</td>\n",
       "      <td>0.0</td>\n",
       "      <td>0.0</td>\n",
       "      <td>90</td>\n",
       "      <td>Clouds</td>\n",
       "      <td>overcast clouds</td>\n",
       "      <td>5026</td>\n",
       "      <td>1</td>\n",
       "      <td>10</td>\n",
       "    </tr>\n",
       "    <tr>\n",
       "      <th>2012-10-02 13:00:00</th>\n",
       "      <td>None</td>\n",
       "      <td>291.14</td>\n",
       "      <td>0.0</td>\n",
       "      <td>0.0</td>\n",
       "      <td>75</td>\n",
       "      <td>Clouds</td>\n",
       "      <td>broken clouds</td>\n",
       "      <td>4918</td>\n",
       "      <td>1</td>\n",
       "      <td>10</td>\n",
       "    </tr>\n",
       "  </tbody>\n",
       "</table>\n",
       "</div>"
      ],
      "text/plain": [
       "                    holiday    temp  rain_1h  snow_1h  clouds_all  \\\n",
       "date_time                                                           \n",
       "2012-10-02 09:00:00    None  288.28      0.0      0.0          40   \n",
       "2012-10-02 10:00:00    None  289.36      0.0      0.0          75   \n",
       "2012-10-02 11:00:00    None  289.58      0.0      0.0          90   \n",
       "2012-10-02 12:00:00    None  290.13      0.0      0.0          90   \n",
       "2012-10-02 13:00:00    None  291.14      0.0      0.0          75   \n",
       "\n",
       "                    weather_main weather_description  traffic_volume  weekday  \\\n",
       "date_time                                                                       \n",
       "2012-10-02 09:00:00       Clouds    scattered clouds            5545        1   \n",
       "2012-10-02 10:00:00       Clouds       broken clouds            4516        1   \n",
       "2012-10-02 11:00:00       Clouds     overcast clouds            4767        1   \n",
       "2012-10-02 12:00:00       Clouds     overcast clouds            5026        1   \n",
       "2012-10-02 13:00:00       Clouds       broken clouds            4918        1   \n",
       "\n",
       "                     month  \n",
       "date_time                   \n",
       "2012-10-02 09:00:00     10  \n",
       "2012-10-02 10:00:00     10  \n",
       "2012-10-02 11:00:00     10  \n",
       "2012-10-02 12:00:00     10  \n",
       "2012-10-02 13:00:00     10  "
      ]
     },
     "execution_count": 4,
     "metadata": {},
     "output_type": "execute_result"
    }
   ],
   "source": [
    "# convert date_time-field into datetime format & add index\n",
    "df_with_dates = df\n",
    "df_with_dates['date_time'] = pd.to_datetime(df['date_time'], format='%Y-%m-%d %H:%M:%S')\n",
    "df_with_dates = df_with_dates.set_index('date_time')\n",
    "df_with_dates['weekday'] = df_with_dates.index.dayofweek\n",
    "df_with_dates['month'] = df_with_dates.index.month\n",
    "df_with_dates.head()"
   ]
  },
  {
   "cell_type": "code",
   "execution_count": 5,
   "metadata": {},
   "outputs": [
    {
     "data": {
      "text/plain": [
       "Text(0.5, 1.0, 'Traffic at 12:00')"
      ]
     },
     "execution_count": 5,
     "metadata": {},
     "output_type": "execute_result"
    },
    {
     "data": {
      "image/png": "[encoded data removed]",
      "text/plain": [
       "<Figure size 432x288 with 1 Axes>"
      ]
     },
     "metadata": {
      "needs_background": "light"
     },
     "output_type": "display_data"
    }
   ],
   "source": [
    "def traffic_at_time(time, dataframe):\n",
    "    return dataframe.at_time('{}:00'.format(time))['traffic_volume']\n",
    "\n",
    "# inefficient, but makes testing easier\n",
    "traffic_by_time = [traffic_at_time(time, df_with_dates) for time in range(24)]\n",
    "\n",
    "# make all sublists same size\n",
    "def trim(arr):\n",
    "    min_n = min([len(arr[n]) for n in range(len(arr))])\n",
    "    return [arr[n][:min_n] for n in range(len(arr))]\n",
    "\n",
    "traffic_by_time = trim(traffic_by_time)\n",
    "\n",
    "# e.g. traffic volume at 12\n",
    "\n",
    "plt.hist(traffic_by_time[12], bins=50)\n",
    "plt.title(\"Traffic at 12:00\")"
   ]
  },
  {
   "cell_type": "markdown",
   "metadata": {},
   "source": [
    "Below, we have created an easily accessible dataframe on the traffic volumes of a certain month. The histogram below is at 8 o'clock in the weekday mornings in January. "
   ]
  },
  {
   "cell_type": "code",
   "execution_count": 6,
   "metadata": {
    "scrolled": true
   },
   "outputs": [
    {
     "data": {
      "image/png": "[encoded data removed]",
      "text/plain": [
       "<Figure size 432x288 with 1 Axes>"
      ]
     },
     "metadata": {
      "needs_background": "light"
     },
     "output_type": "display_data"
    }
   ],
   "source": [
    "# holds traffic during weekdays at 8\n",
    "traffic_by_month = [traffic_at_time(8, df_with_dates[(df_with_dates['month'] == month) & (df_with_dates['weekday'] < 5)]) \n",
    "                    for month in range(1,13)]\n",
    "\n",
    "traffic_by_month = trim(traffic_by_month)\n",
    "# traffic in january during weekdays at 8\n",
    "\n",
    "[sns.distplot(traffic_by_month[i], hist=False, kde=True, \n",
    "             bins=int(180/5),\n",
    "             hist_kws={'edgecolor':'black'},\n",
    "             kde_kws={'linewidth': 4}) for i in range(12)];"
   ]
  },
  {
   "cell_type": "markdown",
   "metadata": {},
   "source": [
    "### Further analysis on data\n",
    "\n",
    "In this part we have further analysed the extra data in the dataset. We also discuss some outliers and missing data. These **insights might help us form our distributions later on in the project and analyse the results**. Thus, we see it fit to look at the data even though it is not used. Feel free to skip this part."
   ]
  },
  {
   "cell_type": "code",
   "execution_count": 7,
   "metadata": {},
   "outputs": [],
   "source": [
    "#df.describe()"
   ]
  },
  {
   "cell_type": "markdown",
   "metadata": {},
   "source": [
    "There are many labelled data columns in our data. Below we can see the holiday, weather main and weather description labels."
   ]
  },
  {
   "cell_type": "code",
   "execution_count": 8,
   "metadata": {},
   "outputs": [],
   "source": [
    "#df['holiday'].value_counts()"
   ]
  },
  {
   "cell_type": "code",
   "execution_count": 9,
   "metadata": {},
   "outputs": [],
   "source": [
    "#df['weather_main'].value_counts()"
   ]
  },
  {
   "cell_type": "code",
   "execution_count": 10,
   "metadata": {},
   "outputs": [],
   "source": [
    "#df['weather_description'].value_counts()"
   ]
  },
  {
   "cell_type": "markdown",
   "metadata": {},
   "source": [
    "From the temperature data we can see that there are clear outliers. The x-axel is scaled from 0 to 300 even though there are barely any values below 250. When we dig deeper below the 250 values, we can see there are a couple of really low values. "
   ]
  },
  {
   "cell_type": "code",
   "execution_count": 11,
   "metadata": {},
   "outputs": [],
   "source": [
    "#plt.hist(df['temp'], bins=50)\n",
    "#plt.title(\"Temperature\")"
   ]
  },
  {
   "cell_type": "code",
   "execution_count": 12,
   "metadata": {},
   "outputs": [],
   "source": [
    "#df_low_temp = df[df['temp'] < 250]\n",
    "#plt.hist(df_low_temp['temp'], bins=50)\n",
    "#plt.title(\"Low temperatures\")"
   ]
  },
  {
   "cell_type": "code",
   "execution_count": 13,
   "metadata": {},
   "outputs": [],
   "source": [
    "#df[df['temp'] == 0]"
   ]
  },
  {
   "cell_type": "markdown",
   "metadata": {},
   "source": [
    "When we look at these zero Kelvin temperatures, we can see that the observations seem otherwise correct. The sky is clear, there is no rain or snow, and there are some small amounts of traffic during that time. Thus, we suggest that these datapoints only lack the temperature data and can still be used. We would fix the points by taking the average temperature during similar times (Jan-Feb nights).\n",
    "\n",
    "Next off is the rain. We can see again that there are some outliers. When we take the description of our data, we see there is a datapoint with around 9831 mm of rain. Otherwise, the data seems reasonable. There are some 50mm rain points, but this is still realistic within one hour of really heavy rain. We would set the 9831mm datapoint to an average of our very heavy rain weather descriptions."
   ]
  },
  {
   "cell_type": "code",
   "execution_count": 14,
   "metadata": {},
   "outputs": [],
   "source": [
    "#plt.hist(df['rain_1h'], bins=50)\n",
    "#plt.title(\"Rain\")"
   ]
  },
  {
   "cell_type": "code",
   "execution_count": 15,
   "metadata": {},
   "outputs": [],
   "source": [
    "#df[df['weather_description'] == 'very heavy rain']"
   ]
  },
  {
   "cell_type": "code",
   "execution_count": 16,
   "metadata": {},
   "outputs": [],
   "source": [
    "#df_rain = df[df['rain_1h'] < 9831]\n",
    "#plt.hist(df_rain['rain_1h'], bins=50)\n",
    "#plt.title(\"Corrected rain\")"
   ]
  },
  {
   "cell_type": "markdown",
   "metadata": {},
   "source": [
    "With snow and clouds, the data seems to be correct. There are a lot of datapoints with 0 snow, but there are also a lot of points where there are similar looking numbers of snow. With clouds, the data is quite dispersed."
   ]
  },
  {
   "cell_type": "code",
   "execution_count": 17,
   "metadata": {},
   "outputs": [],
   "source": [
    "#plt.hist(df['snow_1h'], bins=150)\n",
    "#plt.title(\"Snow\")"
   ]
  },
  {
   "cell_type": "code",
   "execution_count": 18,
   "metadata": {
    "scrolled": true
   },
   "outputs": [],
   "source": [
    "#plt.hist(df['clouds_all'], bins=50)\n",
    "#plt.title(\"Clouds\")"
   ]
  },
  {
   "cell_type": "markdown",
   "metadata": {},
   "source": [
    "## Description of models\n",
    "\n",
    "Like discussed in the analysis problem, there are different distributions from one hour to the next. There might even be multiple peaks in the distributions of an hourly data. We chose to use hierarchical and pooled models for our data analysis."
   ]
  },
  {
   "cell_type": "code",
   "execution_count": 19,
   "metadata": {},
   "outputs": [
    {
     "data": {
      "text/plain": [
       "Text(0.5, 1.0, 'Traffic at 8:00')"
      ]
     },
     "execution_count": 19,
     "metadata": {},
     "output_type": "execute_result"
    },
    {
     "data": {
      "image/png": "[encoded data removed]",
      "text/plain": [
       "<Figure size 432x288 with 1 Axes>"
      ]
     },
     "metadata": {
      "needs_background": "light"
     },
     "output_type": "display_data"
    }
   ],
   "source": [
    "plt.hist(traffic_by_time[8], bins=50)\n",
    "plt.title(\"Traffic at 8:00\")"
   ]
  },
  {
   "cell_type": "code",
   "execution_count": 20,
   "metadata": {},
   "outputs": [
    {
     "data": {
      "text/plain": [
       "Text(0.5, 1.0, 'Traffic at 19:00')"
      ]
     },
     "execution_count": 20,
     "metadata": {},
     "output_type": "execute_result"
    },
    {
     "data": {
      "image/png": "[encoded data removed]",
      "text/plain": [
       "<Figure size 432x288 with 1 Axes>"
      ]
     },
     "metadata": {
      "needs_background": "light"
     },
     "output_type": "display_data"
    }
   ],
   "source": [
    "plt.hist(traffic_by_time[19], bins=50)\n",
    "plt.title(\"Traffic at 19:00\")"
   ]
  },
  {
   "cell_type": "markdown",
   "metadata": {},
   "source": [
    "### Separate model\n",
    "\n",
    "In our separate model, we will use singular months to assess the differences between several months and their hyperparameters. This means that we will run our model separately for all the 12 months on a certain hour. \n",
    "\n",
    "The model will calculate the probabilities of certain parameters that would represent the data the best. Our observations follow a distribution as follows:\n",
    "\n",
    "$$\\theta_j | y_j \\sim Dist(\\mu , \\sigma^2)$$\n",
    "\n",
    "and joint posterior\n",
    "\n",
    "$$p(\\theta|y) \\propto p(y|\\theta)p(\\theta)$$\n",
    "\n",
    "### Hierarchical model\n",
    "\n",
    "In our hierarchical model, we will use singular months and the differences between multiple months to assess the differences between several months and their hyperparameters. This means that we will run our model together for all the 12 months on a certain hour. \n",
    "\n",
    "The model will calculate the two kinds of probabilities. First, the same as the separate model: how well parameters represent the data and second, how well a certain hyperparameter reflects all the parameters of the different months. Therefore, the results will reflect the observations on two levels:\n",
    "1. Level where observations are given the parameters $p(y_{ij})|\\theta_j)$\n",
    "2. Level where parameters are given the hyperparameters $p(\\theta_j|\\tau)$\n",
    "\n",
    "Here the distributions and dependencies are as follows:\n",
    "\n",
    "$$\\theta_j | y_j \\sim Dist(\\mu_j , \\sigma^2_j)$$\n",
    "$$\\tau | \\theta_j \\sim Dist(\\mu_{months}, \\sigma_{months})$$\n",
    "\n",
    "and joint posterior\n",
    "\n",
    "$$p(\\theta, \\tau|y) \\propto p(y|\\theta, \\tau)p(\\theta,\\tau) \\propto p(y|\\theta)p(\\theta|\\tau)p(\\tau)$$"
   ]
  },
  {
   "cell_type": "markdown",
   "metadata": {},
   "source": [
    "## Prior choices\n",
    "\n",
    "We will try out two prior distribution for our use: first one being the normal distribution and the second being a skewed normal distribution. This is due to the nature of our data. During weekdays, the data follows quite a resembling shape with a long lower-end tail and high volume in the higher values.\n",
    "\n",
    "The priors are weakly informative. We are not sure how the months are actually varying from one to the other. When trying out different values for our distributions and following how well they fit the data plotted before, it seems like the best options for these two distributions are:\n",
    "\n",
    "$$y_j \\sim Skewnorm(6000,1300,-3)$$\n",
    "\n",
    "$$y_j \\sim Norm(5800,625)$$"
   ]
  },
  {
   "cell_type": "code",
   "execution_count": 21,
   "metadata": {},
   "outputs": [
    {
     "data": {
      "image/png": "[encoded data removed]",
      "text/plain": [
       "<Figure size 432x288 with 1 Axes>"
      ]
     },
     "metadata": {
      "needs_background": "light"
     },
     "output_type": "display_data"
    },
    {
     "data": {
      "text/plain": [
       "[<matplotlib.lines.Line2D at 0x1512db03ac8>]"
      ]
     },
     "execution_count": 379,
     "metadata": {},
     "output_type": "execute_result"
    },
    {
     "data": {
      "image/png": "[encoded data removed]",
      "text/plain": [
       "<Figure size 432x288 with 1 Axes>"
      ]
     },
     "metadata": {
      "needs_background": "light"
     },
     "output_type": "display_data"
    }
   ],
   "source": [
    "x = np.linspace(0,2600,10000)[1:-1]\n",
    "dist = ss.skewnorm(loc=0.8,scale=0.2,a=-5)\n",
    "dist2 = ss.cauchy(loc=1300,scale=300)\n",
    "plt.plot(x, dist.pdf(x))\n",
    "plt.show()\n",
    "plt.plot(x, dist2.pdf(x))"
   ]
  },
  {
   "cell_type": "markdown",
   "metadata": {
    "nbgrader": {
     "grade": false,
     "grade_id": "cell-a5592b3f1c6bf91d",
     "locked": true,
     "schema_version": 2,
     "solution": false
    }
   },
   "source": [
    "## The model and training\n",
    "\n",
    "Next off we are going to introduce our model and train it using STAN.\n",
    "\n",
    "This model is a modified version of \"Comparison of k groups with common variance (ANOVA)\" accessed on 06/12/19 from http://avehtari.github.io/BDA_R_demos/demos_rstan/rstan_demo.html#8_comparison_of_k_groups_with_hierarchical_models\n",
    "\n",
    "### Separate model"
   ]
  },
  {
   "cell_type": "code",
   "execution_count": 370,
   "metadata": {},
   "outputs": [],
   "source": [
    "separate_model = \"\"\"\n",
    "\n",
    "data {\n",
    "    int<lower=0> N; // number of data points\n",
    "    int<lower=0> K; // number of groups\n",
    "    int<lower=1, upper=K> x[N]; // groups indicator\n",
    "    vector[N] y; // data\n",
    "}\n",
    "\n",
    "parameters {\n",
    "    vector<lower=0>[K] mu;\n",
    "    vector<lower=0>[K] sigma;\n",
    "}\n",
    "\n",
    "model {\n",
    "    mu ~ normal(5800,1300);\n",
    "    sigma ~ cauchy(0, 10);\n",
    "    y ~ normal(mu[x],sigma[x]);\n",
    "}\n",
    "generated quantities {\n",
    "    vector[N] log_lik;\n",
    "    for (n in 1:N)\n",
    "        log_lik[n] = normal_lpdf(y[n] | mu[x[n]], sigma[x[n]]);\n",
    "}\n",
    "\n",
    "\"\"\""
   ]
  },
  {
   "cell_type": "code",
   "execution_count": 371,
   "metadata": {},
   "outputs": [
    {
     "name": "stderr",
     "output_type": "stream",
     "text": [
      "INFO:pystan:COMPILING THE C++ CODE FOR MODEL anon_model_25c493444d3c6453f5ee390aeef8be0e NOW.\n",
      "WARNING:pystan:Maximum (flat) parameter count (1000) exceeded: skipping diagnostic tests for n_eff and Rhat.\n",
      "To run all diagnostics call pystan.check_hmc_diagnostics(fit)\n"
     ]
    }
   ],
   "source": [
    "separate_stan = pystan.StanModel(model_code=separate_model)\n",
    "\n",
    "traffic_data = traffic_by_month\n",
    "\n",
    "K = len(traffic_data)\n",
    "y = [datapoint for month in traffic_data for datapoint in month]\n",
    "x = [i+1 for i in range(K) for j in range(len(traffic_data[0]))]\n",
    "N = len(x)\n",
    "\n",
    "separate_data = {\n",
    "    'N': N,\n",
    "    'K': K,\n",
    "    'y': y,\n",
    "    'x': x\n",
    "}\n",
    "\n",
    "separate_fit = separate_stan.sampling(data=separate_data)\n",
    "\n",
    "separate_samples = separate_fit.extract(permuted=True)"
   ]
  },
  {
   "cell_type": "code",
   "execution_count": 374,
   "metadata": {},
   "outputs": [
    {
     "ename": "TypeError",
     "evalue": "distplot() got an unexpected keyword argument 'xlim'",
     "output_type": "error",
     "traceback": [
      "\u001b[1;31m---------------------------------------------------------------------------\u001b[0m",
      "\u001b[1;31mTypeError\u001b[0m                                 Traceback (most recent call last)",
      "\u001b[1;32m<ipython-input-374-cd6347ca4040>\u001b[0m in \u001b[0;36m<module>\u001b[1;34m\u001b[0m\n\u001b[0;32m      7\u001b[0m             \u001b[0mhist_kws\u001b[0m\u001b[1;33m=\u001b[0m\u001b[1;33m{\u001b[0m\u001b[1;34m'edgecolor'\u001b[0m\u001b[1;33m:\u001b[0m\u001b[1;34m'black'\u001b[0m\u001b[1;33m}\u001b[0m\u001b[1;33m,\u001b[0m\u001b[1;33m\u001b[0m\u001b[1;33m\u001b[0m\u001b[0m\n\u001b[0;32m      8\u001b[0m             \u001b[0mkde_kws\u001b[0m\u001b[1;33m=\u001b[0m\u001b[1;33m{\u001b[0m\u001b[1;34m'linewidth'\u001b[0m\u001b[1;33m:\u001b[0m \u001b[1;36m4\u001b[0m\u001b[1;33m}\u001b[0m\u001b[1;33m,\u001b[0m\u001b[1;33m\u001b[0m\u001b[1;33m\u001b[0m\u001b[0m\n\u001b[1;32m----> 9\u001b[1;33m             xlim = {0, 7000}) for i in range(12)];\n\u001b[0m",
      "\u001b[1;32m<ipython-input-374-cd6347ca4040>\u001b[0m in \u001b[0;36m<listcomp>\u001b[1;34m(.0)\u001b[0m\n\u001b[0;32m      7\u001b[0m             \u001b[0mhist_kws\u001b[0m\u001b[1;33m=\u001b[0m\u001b[1;33m{\u001b[0m\u001b[1;34m'edgecolor'\u001b[0m\u001b[1;33m:\u001b[0m\u001b[1;34m'black'\u001b[0m\u001b[1;33m}\u001b[0m\u001b[1;33m,\u001b[0m\u001b[1;33m\u001b[0m\u001b[1;33m\u001b[0m\u001b[0m\n\u001b[0;32m      8\u001b[0m             \u001b[0mkde_kws\u001b[0m\u001b[1;33m=\u001b[0m\u001b[1;33m{\u001b[0m\u001b[1;34m'linewidth'\u001b[0m\u001b[1;33m:\u001b[0m \u001b[1;36m4\u001b[0m\u001b[1;33m}\u001b[0m\u001b[1;33m,\u001b[0m\u001b[1;33m\u001b[0m\u001b[1;33m\u001b[0m\u001b[0m\n\u001b[1;32m----> 9\u001b[1;33m             xlim = {0, 7000}) for i in range(12)];\n\u001b[0m",
      "\u001b[1;31mTypeError\u001b[0m: distplot() got an unexpected keyword argument 'xlim'"
     ]
    }
   ],
   "source": [
    "# January\n",
    "#plt.hist(separate_samples['ypred'][:,10], bins=50);\n",
    "#plt.hist(separate_samples['ypred'][:,0], bins=50);\n",
    "\n",
    "[sns.distplot(separate_samples['mu'][:,i], hist=False, kde=True, \n",
    "            bins=int(180/5),\n",
    "            hist_kws={'edgecolor':'black'},\n",
    "            kde_kws={'linewidth': 4}) for i in range(12)];"
   ]
  },
  {
   "cell_type": "code",
   "execution_count": 373,
   "metadata": {},
   "outputs": [
    {
     "data": {
      "text/plain": [
       "Computed from 4000 by 1212 log-likelihood matrix\n",
       "\n",
       "         Estimate       SE\n",
       "elpd_loo -9738.66    55.57\n",
       "p_loo       56.48        -\n",
       "------\n",
       "\n",
       "Pareto k diagnostic values:\n",
       "                         Count   Pct.\n",
       "(-Inf, 0.5]   (good)     1206   99.5%\n",
       " (0.5, 0.7]   (ok)          6    0.5%\n",
       "   (0.7, 1]   (bad)         0    0.0%\n",
       "   (1, Inf)   (very bad)    0    0.0%"
      ]
     },
     "execution_count": 373,
     "metadata": {},
     "output_type": "execute_result"
    }
   ],
   "source": [
    "separate_inference_data = az.from_pystan(\n",
    "    posterior=separate_fit,\n",
    "    #posterior_predictive='ypred7',\n",
    "    observed_data=['y'],\n",
    "    log_likelihood='log_lik'\n",
    ")\n",
    "\n",
    "az.loo(separate_inference_data, pointwise=True, scale=\"log\")"
   ]
  },
  {
   "cell_type": "markdown",
   "metadata": {},
   "source": [
    "### Hierarchical model"
   ]
  },
  {
   "cell_type": "code",
   "execution_count": 26,
   "metadata": {},
   "outputs": [],
   "source": [
    "hierarchical_model = \"\"\"\n",
    "data {\n",
    "    int<lower=0> N; // number of data points\n",
    "    int<lower=0> K; // number of groups\n",
    "    int<lower=1, upper=K> x[N]; // groups indicator\n",
    "    vector[N] y; // data\n",
    "}\n",
    "\n",
    "parameters {    \n",
    "    real mumu0;\n",
    "    real<lower=0> musigma0;\n",
    "    real sigmamu0;\n",
    "    real<lower=0> sigmasigma0;\n",
    "        \n",
    "    vector<lower=0>[K] mu;\n",
    "    vector<lower=0>[K] sigma;\n",
    "}\n",
    "model {\n",
    "    mumu0 ~ normal(5800, 1300);\n",
    "    musigma0 ~ cauchy(0, 10);\n",
    "    mu ~ normal(mumu0, musigma0);\n",
    "    sigmamu0 ~ normal(0,1);\n",
    "    sigmasigma0 ~ normal(10,10);\n",
    "    sigma ~ cauchy(sigmamu0, sigmasigma0);\n",
    "    \n",
    "    y ~ normal(mu[x], sigma[x]);\n",
    "}\n",
    "generated quantities {\n",
    "    vector[K] ypred;\n",
    "    vector[N] log_lik;\n",
    "    for (k in 1:K)\n",
    "        ypred[k] = normal_rng(mu[k], sigma[k]);\n",
    "    for (n in 1:N)\n",
    "        log_lik[n] = normal_lpdf(y[n] | mu[x[n]], sigma[x[n]]);\n",
    "}\n",
    "\n",
    "\n",
    "\n",
    "\"\"\""
   ]
  },
  {
   "cell_type": "code",
   "execution_count": 27,
   "metadata": {},
   "outputs": [
    {
     "name": "stderr",
     "output_type": "stream",
     "text": [
      "INFO:pystan:COMPILING THE C++ CODE FOR MODEL anon_model_b52565df3dcd370a5338251277b1db15 NOW.\n",
      "WARNING:pystan:Maximum (flat) parameter count (1000) exceeded: skipping diagnostic tests for n_eff and Rhat.\n",
      "To run all diagnostics call pystan.check_hmc_diagnostics(fit)\n"
     ]
    }
   ],
   "source": [
    "hierarchical_stan = pystan.StanModel(model_code=hierarchical_model)\n",
    "\n",
    "traffic_data = traffic_by_month\n",
    "\n",
    "K = len(traffic_data)\n",
    "y = [datapoint for month in traffic_data for datapoint in month]\n",
    "x = [i+1 for i in range(K) for j in range(len(traffic_data[0]))]\n",
    "N = len(x)\n",
    "\n",
    "hierarchical_data = {\n",
    "    'N': N,\n",
    "    'K': K,\n",
    "    'y': y,\n",
    "    'x': x\n",
    "}\n",
    "\n",
    "hierarchical_fit = hierarchical_stan.sampling(data=hierarchical_data)\n",
    "\n",
    "hierarchical_samples = hierarchical_fit.extract(permuted=True)"
   ]
  },
  {
   "cell_type": "code",
   "execution_count": 28,
   "metadata": {
    "scrolled": false
   },
   "outputs": [
    {
     "data": {
      "image/png": "[encoded data removed]",
      "text/plain": [
       "<Figure size 432x288 with 1 Axes>"
      ]
     },
     "metadata": {
      "needs_background": "light"
     },
     "output_type": "display_data"
    }
   ],
   "source": [
    "[sns.distplot(hierarchical_samples['mu'][:,i], hist=False, kde=True, \n",
    "             bins=int(180/5),\n",
    "             hist_kws={'edgecolor':'black'},\n",
    "             kde_kws={'linewidth': 4}) for i in range(12)];"
   ]
  },
  {
   "cell_type": "markdown",
   "metadata": {},
   "source": [
    "## Convergence diagnostics"
   ]
  },
  {
   "cell_type": "code",
   "execution_count": 29,
   "metadata": {},
   "outputs": [
    {
     "name": "stderr",
     "output_type": "stream",
     "text": [
      "/home/otso/.local/lib/python3.6/site-packages/arviz/stats/stats.py:482: UserWarning: Estimated shape parameter of Pareto distribution is greater than 0.7 for one or more samples. You should consider using a more robust model, this is because importance sampling is less likely to work well if the marginal posterior and LOO posterior are very different. This is more likely to happen with a non-robust model and highly influential observations.\n",
      "  \"Estimated shape parameter of Pareto distribution is greater than 0.7 for \"\n"
     ]
    },
    {
     "data": {
      "text/plain": [
       "Computed from 4000 by 1212 log-likelihood matrix\n",
       "\n",
       "         Estimate       SE\n",
       "elpd_loo -9741.84    56.32\n",
       "p_loo       59.79        -\n",
       "\n",
       "There has been a warning during the calculation. Please check the results.\n",
       "------\n",
       "\n",
       "Pareto k diagnostic values:\n",
       "                         Count   Pct.\n",
       "(-Inf, 0.5]   (good)     1200   99.0%\n",
       " (0.5, 0.7]   (ok)          9    0.7%\n",
       "   (0.7, 1]   (bad)         1    0.1%\n",
       "   (1, Inf)   (very bad)    2    0.2%"
      ]
     },
     "execution_count": 29,
     "metadata": {},
     "output_type": "execute_result"
    }
   ],
   "source": [
    "hierarchical_inference_data = az.from_pystan(\n",
    "    posterior=hierarchical_fit,\n",
    "    observed_data=['y'],\n",
    "    log_likelihood='log_lik'\n",
    ")\n",
    "\n",
    "az.loo(hierarchical_inference_data, pointwise=True, scale=\"log\")"
   ]
  },
  {
   "cell_type": "markdown",
   "metadata": {},
   "source": [
    "## Posterior predictive checking"
   ]
  },
  {
   "cell_type": "markdown",
   "metadata": {},
   "source": [
    "## Model comparison"
   ]
  },
  {
   "cell_type": "markdown",
   "metadata": {},
   "source": [
    "## Sensitivity analysis"
   ]
  },
  {
   "cell_type": "markdown",
   "metadata": {},
   "source": [
    "## Discussion\n",
    "\n",
    "### Future improvements"
   ]
  }
 ],
 "metadata": {
  "celltoolbar": "Create Assignment",
  "kernelspec": {
   "display_name": "Python 3",
   "language": "python",
   "name": "python3"
  },
  "language_info": {
   "codemirror_mode": {
    "name": "ipython",
    "version": 3
   },
   "file_extension": ".py",
   "mimetype": "text/x-python",
   "name": "python",
   "nbconvert_exporter": "python",
   "pygments_lexer": "ipython3",
   "version": "3.7.1"
  }
 },
 "nbformat": 4,
 "nbformat_minor": 2
}
