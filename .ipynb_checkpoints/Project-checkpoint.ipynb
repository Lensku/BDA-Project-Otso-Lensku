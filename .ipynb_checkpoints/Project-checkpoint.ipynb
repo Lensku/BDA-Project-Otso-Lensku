{
 "cells": [
  {
   "cell_type": "markdown",
   "metadata": {
    "nbgrader": {
     "grade": false,
     "grade_id": "cell-a5592b3f1c6bf91d",
     "locked": true,
     "schema_version": 2,
     "solution": false
    }
   },
   "source": [
    "**Bayesian Data Analysis 2019 - Data Analysis Project Report**\n",
    "\n",
    "This is a template with format instructions for Assignments in the Bayesian Data Analysis course at Aalto University. R markdown is a convenient way of writing exercise reports by combining text and R code using markdown syntax. To create your assignment, remove the formatting instructions and use this file as a template.\n",
    "\n",
    "More information on how to use markdown, see [this](https://github.com/adam-p/markdown-here/wiki/Markdown-Cheatsheet) and more information on R markdown can be found [here](https://www.rstudio.com/wp-content/uploads/2015/02/rmarkdown-cheatsheet.pdf).\n",
    "\n",
    "Also, _R Markdown: The Definite Guide_, an extensive book on R Markdown can be found [here](https://bookdown.org/yihui/rmarkdown/).\n",
    "\n",
    "**Note** The report should be anonymous and submitted to [peergrade.io](peergrade.io) as `assignmentX.pdf`. If you have problem with creating a PDF file directly from R markdown, start by creating an HTML file and the just print the HTML to a PDF. \n",
    "\n",
    "\n",
    "# Loaded packages\n",
    "\n",
    "Below are examples of how to load packages that are used in the assignment\n",
    "\n",
    "\n",
    "# Including source code\n",
    "\n",
    "In general, all code needed to produce the essential parts needs to be included, so that it is possible to see, for peer reviewers, where errors may have happened\n",
    "\n",
    "You can always look at the open rubrics to see how and what is asked for in each exercise.\n",
    "\n",
    "Try to avoid printing an excessive amount of code and think about what is essential for showing how did you get the result.\n",
    "\n",
    "Write clear code. The code is also part of your report and clarity of the report affects your score. If the code is not self-explanatory, add comments. In a notebook, you can interleave explaining text and code.\n",
    "\n",
    "If in doubt additional source code can be included in an appendix. \n",
    "\n",
    "# Format instructions\n",
    "\n",
    "All exercises in the assignment should start with header 1 fully specifying that it is exercise X, as:\n",
    "\n",
    "# Exercise 1)\n",
    "## a)\n",
    "\n",
    "Subtasks in each assignments should be numbered and use header 2 (two ##). \n",
    "\n",
    "We can easily add R code as chunks in the following way:"
   ]
  },
  {
   "cell_type": "code",
   "execution_count": 1,
   "metadata": {},
   "outputs": [
    {
     "data": {
      "text/plain": [
       "2"
      ]
     },
     "execution_count": 1,
     "metadata": {},
     "output_type": "execute_result"
    }
   ],
   "source": [
    "1+1"
   ]
  },
  {
   "cell_type": "markdown",
   "metadata": {
    "nbgrader": {
     "grade": false,
     "grade_id": "cell-a5592b3f1c6bf91d",
     "locked": true,
     "schema_version": 2,
     "solution": false
    }
   },
   "source": [
    "# Plots\n",
    "\n",
    "Include plots, where we can specify the width and height of the figure.\n",
    "\n",
    "\n",
    "# Equations\n",
    "\n",
    "Equations should be correctly formated using LaTeX or being included as images if, for example, Microsoft Equations is used. \n",
    "\n",
    "In Markdown, equations can easily be formulated using LaTeX in line as $f(k) = {n \\choose k} p^{k} (1-p)^{n-k}$ or use the math environment as follows:\n",
    "\n",
    "$$\\begin{array}{ccc}\n",
    "x_{11} & x_{12} & x_{13}\\\\\n",
    "x_{21} & x_{22} & x_{23}\n",
    "\\end{array}$$\n",
    "\n",
    "If you are new to LaTeX equations, you could use the [latext4technics](https://www.latex4technics.com/) equation editor to create LaTeX equations to include in the report.\n",
    "\n",
    "More information on using LaTeX in R markdown can be found in 2.5.3 in [R Markdown: The Definite Guide](https://bookdown.org/yihui/rmarkdown/).\n",
    "\n",
    "A short introduction to equations in LaTeX can be found [here](https://www.overleaf.com/learn/latex/Mathematical_expressions).\n",
    "\n",
    "# Language\n",
    "\n",
    "The language used in the course is English. Hence the report needs to be written in English.\n",
    "\n",
    "# Jupyter Notebook and other report formats\n",
    "You are allowed to use any format to produce your report, such as Jupyter Notebook, as long as you obide by the instructions in this \n",
    "\n",
    "template."
   ]
  }
 ],
 "metadata": {
  "celltoolbar": "Create Assignment",
  "kernelspec": {
   "display_name": "Python 3",
   "language": "python",
   "name": "python3"
  },
  "language_info": {
   "codemirror_mode": {
    "name": "ipython",
    "version": 3
   },
   "file_extension": ".py",
   "mimetype": "text/x-python",
   "name": "python",
   "nbconvert_exporter": "python",
   "pygments_lexer": "ipython3",
   "version": "3.6.6"
  }
 },
 "nbformat": 4,
 "nbformat_minor": 2
}
